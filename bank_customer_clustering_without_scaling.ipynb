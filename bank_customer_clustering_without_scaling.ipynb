{
 "cells": [
  {
   "cell_type": "markdown",
   "id": "1d25d805-ac48-4626-9bec-9c918a863e4a",
   "metadata": {},
   "source": [
    "**Import the relevant libraries**"
   ]
  },
  {
   "cell_type": "code",
   "execution_count": 5,
   "id": "aa79d240-ac2f-4d0f-99aa-ac8d4f9e852f",
   "metadata": {},
   "outputs": [],
   "source": [
    "import numpy as np\n",
    "import pandas as pd\n",
    "import matplotlib.pyplot as plt\n",
    "import seaborn as sns\n",
    "sns.set()\n",
    "import warnings\n",
    "\n",
    "from sklearn.cluster import KMeans\n",
    "from sklearn.preprocessing import StandardScaler\n",
    "\n",
    "warnings.filterwarnings('ignore')"
   ]
  },
  {
   "cell_type": "markdown",
   "id": "5a783397-cc23-4b95-80d9-b84b9ac855ed",
   "metadata": {},
   "source": [
    "**Load the data**"
   ]
  },
  {
   "cell_type": "code",
   "execution_count": 7,
   "id": "fb83d72f-6391-4f51-a6a2-ce4349d94875",
   "metadata": {},
   "outputs": [],
   "source": [
    "customer_features1 = pd.read_csv('customer_features1.csv')"
   ]
  },
  {
   "cell_type": "code",
   "execution_count": 9,
   "id": "54145052-c0e0-415b-8d91-3b11232a1f7c",
   "metadata": {},
   "outputs": [
    {
     "data": {
      "text/html": [
       "<div>\n",
       "<style scoped>\n",
       "    .dataframe tbody tr th:only-of-type {\n",
       "        vertical-align: middle;\n",
       "    }\n",
       "\n",
       "    .dataframe tbody tr th {\n",
       "        vertical-align: top;\n",
       "    }\n",
       "\n",
       "    .dataframe thead th {\n",
       "        text-align: right;\n",
       "    }\n",
       "</style>\n",
       "<table border=\"1\" class=\"dataframe\">\n",
       "  <thead>\n",
       "    <tr style=\"text-align: right;\">\n",
       "      <th></th>\n",
       "      <th>CustomerID</th>\n",
       "      <th>CustGender</th>\n",
       "      <th>CustLocation</th>\n",
       "      <th>Age</th>\n",
       "      <th>Recency</th>\n",
       "      <th>Frequency</th>\n",
       "      <th>AvgMonetary</th>\n",
       "      <th>TotalMonetary</th>\n",
       "    </tr>\n",
       "  </thead>\n",
       "  <tbody>\n",
       "    <tr>\n",
       "      <th>0</th>\n",
       "      <td>C1010011</td>\n",
       "      <td>F</td>\n",
       "      <td>NEW DELHI</td>\n",
       "      <td>24</td>\n",
       "      <td>74</td>\n",
       "      <td>2</td>\n",
       "      <td>7.171923</td>\n",
       "      <td>14.343846</td>\n",
       "    </tr>\n",
       "    <tr>\n",
       "      <th>1</th>\n",
       "      <td>C1010012</td>\n",
       "      <td>M</td>\n",
       "      <td>MUMBAI</td>\n",
       "      <td>22</td>\n",
       "      <td>117</td>\n",
       "      <td>1</td>\n",
       "      <td>7.313220</td>\n",
       "      <td>7.313220</td>\n",
       "    </tr>\n",
       "    <tr>\n",
       "      <th>2</th>\n",
       "      <td>C1010014</td>\n",
       "      <td>F</td>\n",
       "      <td>MUMBAI</td>\n",
       "      <td>32</td>\n",
       "      <td>154</td>\n",
       "      <td>2</td>\n",
       "      <td>6.310259</td>\n",
       "      <td>12.620517</td>\n",
       "    </tr>\n",
       "    <tr>\n",
       "      <th>3</th>\n",
       "      <td>C1010018</td>\n",
       "      <td>F</td>\n",
       "      <td>CHAMPARAN</td>\n",
       "      <td>26</td>\n",
       "      <td>85</td>\n",
       "      <td>1</td>\n",
       "      <td>3.433987</td>\n",
       "      <td>3.433987</td>\n",
       "    </tr>\n",
       "    <tr>\n",
       "      <th>4</th>\n",
       "      <td>C1010024</td>\n",
       "      <td>M</td>\n",
       "      <td>KOLKATA</td>\n",
       "      <td>28</td>\n",
       "      <td>113</td>\n",
       "      <td>1</td>\n",
       "      <td>8.517393</td>\n",
       "      <td>8.517393</td>\n",
       "    </tr>\n",
       "    <tr>\n",
       "      <th>...</th>\n",
       "      <td>...</td>\n",
       "      <td>...</td>\n",
       "      <td>...</td>\n",
       "      <td>...</td>\n",
       "      <td>...</td>\n",
       "      <td>...</td>\n",
       "      <td>...</td>\n",
       "      <td>...</td>\n",
       "    </tr>\n",
       "    <tr>\n",
       "      <th>814186</th>\n",
       "      <td>C9099836</td>\n",
       "      <td>M</td>\n",
       "      <td>BHIWANDI</td>\n",
       "      <td>26</td>\n",
       "      <td>154</td>\n",
       "      <td>1</td>\n",
       "      <td>6.539586</td>\n",
       "      <td>6.539586</td>\n",
       "    </tr>\n",
       "    <tr>\n",
       "      <th>814187</th>\n",
       "      <td>C9099877</td>\n",
       "      <td>M</td>\n",
       "      <td>BANGALORE</td>\n",
       "      <td>20</td>\n",
       "      <td>85</td>\n",
       "      <td>1</td>\n",
       "      <td>5.407172</td>\n",
       "      <td>5.407172</td>\n",
       "    </tr>\n",
       "    <tr>\n",
       "      <th>814188</th>\n",
       "      <td>C9099919</td>\n",
       "      <td>M</td>\n",
       "      <td>GUNTUR</td>\n",
       "      <td>23</td>\n",
       "      <td>113</td>\n",
       "      <td>1</td>\n",
       "      <td>4.844187</td>\n",
       "      <td>4.844187</td>\n",
       "    </tr>\n",
       "    <tr>\n",
       "      <th>814189</th>\n",
       "      <td>C9099941</td>\n",
       "      <td>M</td>\n",
       "      <td>CHENNAI</td>\n",
       "      <td>21</td>\n",
       "      <td>103</td>\n",
       "      <td>1</td>\n",
       "      <td>3.931826</td>\n",
       "      <td>3.931826</td>\n",
       "    </tr>\n",
       "    <tr>\n",
       "      <th>814190</th>\n",
       "      <td>C9099956</td>\n",
       "      <td>M</td>\n",
       "      <td>MUSSOORIE</td>\n",
       "      <td>34</td>\n",
       "      <td>75</td>\n",
       "      <td>1</td>\n",
       "      <td>6.752270</td>\n",
       "      <td>6.752270</td>\n",
       "    </tr>\n",
       "  </tbody>\n",
       "</table>\n",
       "<p>814191 rows × 8 columns</p>\n",
       "</div>"
      ],
      "text/plain": [
       "       CustomerID CustGender CustLocation  Age  Recency  Frequency  \\\n",
       "0        C1010011          F    NEW DELHI   24       74          2   \n",
       "1        C1010012          M       MUMBAI   22      117          1   \n",
       "2        C1010014          F       MUMBAI   32      154          2   \n",
       "3        C1010018          F    CHAMPARAN   26       85          1   \n",
       "4        C1010024          M      KOLKATA   28      113          1   \n",
       "...           ...        ...          ...  ...      ...        ...   \n",
       "814186   C9099836          M     BHIWANDI   26      154          1   \n",
       "814187   C9099877          M    BANGALORE   20       85          1   \n",
       "814188   C9099919          M       GUNTUR   23      113          1   \n",
       "814189   C9099941          M      CHENNAI   21      103          1   \n",
       "814190   C9099956          M    MUSSOORIE   34       75          1   \n",
       "\n",
       "        AvgMonetary  TotalMonetary  \n",
       "0          7.171923      14.343846  \n",
       "1          7.313220       7.313220  \n",
       "2          6.310259      12.620517  \n",
       "3          3.433987       3.433987  \n",
       "4          8.517393       8.517393  \n",
       "...             ...            ...  \n",
       "814186     6.539586       6.539586  \n",
       "814187     5.407172       5.407172  \n",
       "814188     4.844187       4.844187  \n",
       "814189     3.931826       3.931826  \n",
       "814190     6.752270       6.752270  \n",
       "\n",
       "[814191 rows x 8 columns]"
      ]
     },
     "execution_count": 9,
     "metadata": {},
     "output_type": "execute_result"
    }
   ],
   "source": [
    "customer_features1"
   ]
  },
  {
   "cell_type": "markdown",
   "id": "db88a897-e8a7-4d70-aadb-5d544ffe7e8c",
   "metadata": {},
   "source": [
    "**Select the features**"
   ]
  },
  {
   "cell_type": "code",
   "execution_count": 13,
   "id": "0e8d13dd-9c85-4739-8fff-f8790cdf34ff",
   "metadata": {},
   "outputs": [],
   "source": [
    "x = customer_features1.iloc[:, 3:8]"
   ]
  },
  {
   "cell_type": "code",
   "execution_count": 15,
   "id": "54b85e8d-36e7-4ef6-bea0-1476a31e75e9",
   "metadata": {},
   "outputs": [
    {
     "data": {
      "text/html": [
       "<div>\n",
       "<style scoped>\n",
       "    .dataframe tbody tr th:only-of-type {\n",
       "        vertical-align: middle;\n",
       "    }\n",
       "\n",
       "    .dataframe tbody tr th {\n",
       "        vertical-align: top;\n",
       "    }\n",
       "\n",
       "    .dataframe thead th {\n",
       "        text-align: right;\n",
       "    }\n",
       "</style>\n",
       "<table border=\"1\" class=\"dataframe\">\n",
       "  <thead>\n",
       "    <tr style=\"text-align: right;\">\n",
       "      <th></th>\n",
       "      <th>Age</th>\n",
       "      <th>Recency</th>\n",
       "      <th>Frequency</th>\n",
       "      <th>AvgMonetary</th>\n",
       "      <th>TotalMonetary</th>\n",
       "    </tr>\n",
       "  </thead>\n",
       "  <tbody>\n",
       "    <tr>\n",
       "      <th>0</th>\n",
       "      <td>24</td>\n",
       "      <td>74</td>\n",
       "      <td>2</td>\n",
       "      <td>7.171923</td>\n",
       "      <td>14.343846</td>\n",
       "    </tr>\n",
       "    <tr>\n",
       "      <th>1</th>\n",
       "      <td>22</td>\n",
       "      <td>117</td>\n",
       "      <td>1</td>\n",
       "      <td>7.313220</td>\n",
       "      <td>7.313220</td>\n",
       "    </tr>\n",
       "    <tr>\n",
       "      <th>2</th>\n",
       "      <td>32</td>\n",
       "      <td>154</td>\n",
       "      <td>2</td>\n",
       "      <td>6.310259</td>\n",
       "      <td>12.620517</td>\n",
       "    </tr>\n",
       "    <tr>\n",
       "      <th>3</th>\n",
       "      <td>26</td>\n",
       "      <td>85</td>\n",
       "      <td>1</td>\n",
       "      <td>3.433987</td>\n",
       "      <td>3.433987</td>\n",
       "    </tr>\n",
       "    <tr>\n",
       "      <th>4</th>\n",
       "      <td>28</td>\n",
       "      <td>113</td>\n",
       "      <td>1</td>\n",
       "      <td>8.517393</td>\n",
       "      <td>8.517393</td>\n",
       "    </tr>\n",
       "    <tr>\n",
       "      <th>...</th>\n",
       "      <td>...</td>\n",
       "      <td>...</td>\n",
       "      <td>...</td>\n",
       "      <td>...</td>\n",
       "      <td>...</td>\n",
       "    </tr>\n",
       "    <tr>\n",
       "      <th>814186</th>\n",
       "      <td>26</td>\n",
       "      <td>154</td>\n",
       "      <td>1</td>\n",
       "      <td>6.539586</td>\n",
       "      <td>6.539586</td>\n",
       "    </tr>\n",
       "    <tr>\n",
       "      <th>814187</th>\n",
       "      <td>20</td>\n",
       "      <td>85</td>\n",
       "      <td>1</td>\n",
       "      <td>5.407172</td>\n",
       "      <td>5.407172</td>\n",
       "    </tr>\n",
       "    <tr>\n",
       "      <th>814188</th>\n",
       "      <td>23</td>\n",
       "      <td>113</td>\n",
       "      <td>1</td>\n",
       "      <td>4.844187</td>\n",
       "      <td>4.844187</td>\n",
       "    </tr>\n",
       "    <tr>\n",
       "      <th>814189</th>\n",
       "      <td>21</td>\n",
       "      <td>103</td>\n",
       "      <td>1</td>\n",
       "      <td>3.931826</td>\n",
       "      <td>3.931826</td>\n",
       "    </tr>\n",
       "    <tr>\n",
       "      <th>814190</th>\n",
       "      <td>34</td>\n",
       "      <td>75</td>\n",
       "      <td>1</td>\n",
       "      <td>6.752270</td>\n",
       "      <td>6.752270</td>\n",
       "    </tr>\n",
       "  </tbody>\n",
       "</table>\n",
       "<p>814191 rows × 5 columns</p>\n",
       "</div>"
      ],
      "text/plain": [
       "        Age  Recency  Frequency  AvgMonetary  TotalMonetary\n",
       "0        24       74          2     7.171923      14.343846\n",
       "1        22      117          1     7.313220       7.313220\n",
       "2        32      154          2     6.310259      12.620517\n",
       "3        26       85          1     3.433987       3.433987\n",
       "4        28      113          1     8.517393       8.517393\n",
       "...     ...      ...        ...          ...            ...\n",
       "814186   26      154          1     6.539586       6.539586\n",
       "814187   20       85          1     5.407172       5.407172\n",
       "814188   23      113          1     4.844187       4.844187\n",
       "814189   21      103          1     3.931826       3.931826\n",
       "814190   34       75          1     6.752270       6.752270\n",
       "\n",
       "[814191 rows x 5 columns]"
      ]
     },
     "execution_count": 15,
     "metadata": {},
     "output_type": "execute_result"
    }
   ],
   "source": [
    "x"
   ]
  },
  {
   "cell_type": "markdown",
   "id": "53187a25-4d77-4a33-8522-176ea443d684",
   "metadata": {},
   "source": [
    "**Clustering**"
   ]
  },
  {
   "cell_type": "code",
   "execution_count": 20,
   "id": "5a3a8f33-175b-441a-9896-bfec89990c64",
   "metadata": {},
   "outputs": [],
   "source": [
    "kmeans = KMeans(3)"
   ]
  },
  {
   "cell_type": "code",
   "execution_count": 22,
   "id": "b746d870-1b87-40b9-9c1a-af1107be870a",
   "metadata": {},
   "outputs": [
    {
     "data": {
      "text/html": [
       "<style>#sk-container-id-1 {color: black;}#sk-container-id-1 pre{padding: 0;}#sk-container-id-1 div.sk-toggleable {background-color: white;}#sk-container-id-1 label.sk-toggleable__label {cursor: pointer;display: block;width: 100%;margin-bottom: 0;padding: 0.3em;box-sizing: border-box;text-align: center;}#sk-container-id-1 label.sk-toggleable__label-arrow:before {content: \"▸\";float: left;margin-right: 0.25em;color: #696969;}#sk-container-id-1 label.sk-toggleable__label-arrow:hover:before {color: black;}#sk-container-id-1 div.sk-estimator:hover label.sk-toggleable__label-arrow:before {color: black;}#sk-container-id-1 div.sk-toggleable__content {max-height: 0;max-width: 0;overflow: hidden;text-align: left;background-color: #f0f8ff;}#sk-container-id-1 div.sk-toggleable__content pre {margin: 0.2em;color: black;border-radius: 0.25em;background-color: #f0f8ff;}#sk-container-id-1 input.sk-toggleable__control:checked~div.sk-toggleable__content {max-height: 200px;max-width: 100%;overflow: auto;}#sk-container-id-1 input.sk-toggleable__control:checked~label.sk-toggleable__label-arrow:before {content: \"▾\";}#sk-container-id-1 div.sk-estimator input.sk-toggleable__control:checked~label.sk-toggleable__label {background-color: #d4ebff;}#sk-container-id-1 div.sk-label input.sk-toggleable__control:checked~label.sk-toggleable__label {background-color: #d4ebff;}#sk-container-id-1 input.sk-hidden--visually {border: 0;clip: rect(1px 1px 1px 1px);clip: rect(1px, 1px, 1px, 1px);height: 1px;margin: -1px;overflow: hidden;padding: 0;position: absolute;width: 1px;}#sk-container-id-1 div.sk-estimator {font-family: monospace;background-color: #f0f8ff;border: 1px dotted black;border-radius: 0.25em;box-sizing: border-box;margin-bottom: 0.5em;}#sk-container-id-1 div.sk-estimator:hover {background-color: #d4ebff;}#sk-container-id-1 div.sk-parallel-item::after {content: \"\";width: 100%;border-bottom: 1px solid gray;flex-grow: 1;}#sk-container-id-1 div.sk-label:hover label.sk-toggleable__label {background-color: #d4ebff;}#sk-container-id-1 div.sk-serial::before {content: \"\";position: absolute;border-left: 1px solid gray;box-sizing: border-box;top: 0;bottom: 0;left: 50%;z-index: 0;}#sk-container-id-1 div.sk-serial {display: flex;flex-direction: column;align-items: center;background-color: white;padding-right: 0.2em;padding-left: 0.2em;position: relative;}#sk-container-id-1 div.sk-item {position: relative;z-index: 1;}#sk-container-id-1 div.sk-parallel {display: flex;align-items: stretch;justify-content: center;background-color: white;position: relative;}#sk-container-id-1 div.sk-item::before, #sk-container-id-1 div.sk-parallel-item::before {content: \"\";position: absolute;border-left: 1px solid gray;box-sizing: border-box;top: 0;bottom: 0;left: 50%;z-index: -1;}#sk-container-id-1 div.sk-parallel-item {display: flex;flex-direction: column;z-index: 1;position: relative;background-color: white;}#sk-container-id-1 div.sk-parallel-item:first-child::after {align-self: flex-end;width: 50%;}#sk-container-id-1 div.sk-parallel-item:last-child::after {align-self: flex-start;width: 50%;}#sk-container-id-1 div.sk-parallel-item:only-child::after {width: 0;}#sk-container-id-1 div.sk-dashed-wrapped {border: 1px dashed gray;margin: 0 0.4em 0.5em 0.4em;box-sizing: border-box;padding-bottom: 0.4em;background-color: white;}#sk-container-id-1 div.sk-label label {font-family: monospace;font-weight: bold;display: inline-block;line-height: 1.2em;}#sk-container-id-1 div.sk-label-container {text-align: center;}#sk-container-id-1 div.sk-container {/* jupyter's `normalize.less` sets `[hidden] { display: none; }` but bootstrap.min.css set `[hidden] { display: none !important; }` so we also need the `!important` here to be able to override the default hidden behavior on the sphinx rendered scikit-learn.org. See: https://github.com/scikit-learn/scikit-learn/issues/21755 */display: inline-block !important;position: relative;}#sk-container-id-1 div.sk-text-repr-fallback {display: none;}</style><div id=\"sk-container-id-1\" class=\"sk-top-container\"><div class=\"sk-text-repr-fallback\"><pre>KMeans(n_clusters=3)</pre><b>In a Jupyter environment, please rerun this cell to show the HTML representation or trust the notebook. <br />On GitHub, the HTML representation is unable to render, please try loading this page with nbviewer.org.</b></div><div class=\"sk-container\" hidden><div class=\"sk-item\"><div class=\"sk-estimator sk-toggleable\"><input class=\"sk-toggleable__control sk-hidden--visually\" id=\"sk-estimator-id-1\" type=\"checkbox\" checked><label for=\"sk-estimator-id-1\" class=\"sk-toggleable__label sk-toggleable__label-arrow\">KMeans</label><div class=\"sk-toggleable__content\"><pre>KMeans(n_clusters=3)</pre></div></div></div></div></div>"
      ],
      "text/plain": [
       "KMeans(n_clusters=3)"
      ]
     },
     "execution_count": 22,
     "metadata": {},
     "output_type": "execute_result"
    }
   ],
   "source": [
    "kmeans.fit(x)"
   ]
  },
  {
   "cell_type": "markdown",
   "id": "1087732c-235c-4953-875c-c1ab51c2bd55",
   "metadata": {},
   "source": [
    "**Clustering result**"
   ]
  },
  {
   "cell_type": "code",
   "execution_count": 25,
   "id": "d398d9d3-c634-4d3d-bc01-99c8ed2f5948",
   "metadata": {},
   "outputs": [
    {
     "data": {
      "text/plain": [
       "array([2, 0, 0, ..., 0, 0, 2])"
      ]
     },
     "execution_count": 25,
     "metadata": {},
     "output_type": "execute_result"
    }
   ],
   "source": [
    "identified_clusters = kmeans.fit_predict(x)\n",
    "identified_clusters"
   ]
  },
  {
   "cell_type": "code",
   "execution_count": 27,
   "id": "c17aff74-b091-49f0-8332-c90343acaa04",
   "metadata": {},
   "outputs": [
    {
     "data": {
      "text/html": [
       "<div>\n",
       "<style scoped>\n",
       "    .dataframe tbody tr th:only-of-type {\n",
       "        vertical-align: middle;\n",
       "    }\n",
       "\n",
       "    .dataframe tbody tr th {\n",
       "        vertical-align: top;\n",
       "    }\n",
       "\n",
       "    .dataframe thead th {\n",
       "        text-align: right;\n",
       "    }\n",
       "</style>\n",
       "<table border=\"1\" class=\"dataframe\">\n",
       "  <thead>\n",
       "    <tr style=\"text-align: right;\">\n",
       "      <th></th>\n",
       "      <th>CustomerID</th>\n",
       "      <th>CustGender</th>\n",
       "      <th>CustLocation</th>\n",
       "      <th>Age</th>\n",
       "      <th>Recency</th>\n",
       "      <th>Frequency</th>\n",
       "      <th>AvgMonetary</th>\n",
       "      <th>TotalMonetary</th>\n",
       "      <th>Cluster</th>\n",
       "    </tr>\n",
       "  </thead>\n",
       "  <tbody>\n",
       "    <tr>\n",
       "      <th>0</th>\n",
       "      <td>C1010011</td>\n",
       "      <td>F</td>\n",
       "      <td>NEW DELHI</td>\n",
       "      <td>24</td>\n",
       "      <td>74</td>\n",
       "      <td>2</td>\n",
       "      <td>7.171923</td>\n",
       "      <td>14.343846</td>\n",
       "      <td>2</td>\n",
       "    </tr>\n",
       "    <tr>\n",
       "      <th>1</th>\n",
       "      <td>C1010012</td>\n",
       "      <td>M</td>\n",
       "      <td>MUMBAI</td>\n",
       "      <td>22</td>\n",
       "      <td>117</td>\n",
       "      <td>1</td>\n",
       "      <td>7.313220</td>\n",
       "      <td>7.313220</td>\n",
       "      <td>0</td>\n",
       "    </tr>\n",
       "    <tr>\n",
       "      <th>2</th>\n",
       "      <td>C1010014</td>\n",
       "      <td>F</td>\n",
       "      <td>MUMBAI</td>\n",
       "      <td>32</td>\n",
       "      <td>154</td>\n",
       "      <td>2</td>\n",
       "      <td>6.310259</td>\n",
       "      <td>12.620517</td>\n",
       "      <td>0</td>\n",
       "    </tr>\n",
       "    <tr>\n",
       "      <th>3</th>\n",
       "      <td>C1010018</td>\n",
       "      <td>F</td>\n",
       "      <td>CHAMPARAN</td>\n",
       "      <td>26</td>\n",
       "      <td>85</td>\n",
       "      <td>1</td>\n",
       "      <td>3.433987</td>\n",
       "      <td>3.433987</td>\n",
       "      <td>0</td>\n",
       "    </tr>\n",
       "    <tr>\n",
       "      <th>4</th>\n",
       "      <td>C1010024</td>\n",
       "      <td>M</td>\n",
       "      <td>KOLKATA</td>\n",
       "      <td>28</td>\n",
       "      <td>113</td>\n",
       "      <td>1</td>\n",
       "      <td>8.517393</td>\n",
       "      <td>8.517393</td>\n",
       "      <td>0</td>\n",
       "    </tr>\n",
       "    <tr>\n",
       "      <th>...</th>\n",
       "      <td>...</td>\n",
       "      <td>...</td>\n",
       "      <td>...</td>\n",
       "      <td>...</td>\n",
       "      <td>...</td>\n",
       "      <td>...</td>\n",
       "      <td>...</td>\n",
       "      <td>...</td>\n",
       "      <td>...</td>\n",
       "    </tr>\n",
       "    <tr>\n",
       "      <th>814186</th>\n",
       "      <td>C9099836</td>\n",
       "      <td>M</td>\n",
       "      <td>BHIWANDI</td>\n",
       "      <td>26</td>\n",
       "      <td>154</td>\n",
       "      <td>1</td>\n",
       "      <td>6.539586</td>\n",
       "      <td>6.539586</td>\n",
       "      <td>0</td>\n",
       "    </tr>\n",
       "    <tr>\n",
       "      <th>814187</th>\n",
       "      <td>C9099877</td>\n",
       "      <td>M</td>\n",
       "      <td>BANGALORE</td>\n",
       "      <td>20</td>\n",
       "      <td>85</td>\n",
       "      <td>1</td>\n",
       "      <td>5.407172</td>\n",
       "      <td>5.407172</td>\n",
       "      <td>0</td>\n",
       "    </tr>\n",
       "    <tr>\n",
       "      <th>814188</th>\n",
       "      <td>C9099919</td>\n",
       "      <td>M</td>\n",
       "      <td>GUNTUR</td>\n",
       "      <td>23</td>\n",
       "      <td>113</td>\n",
       "      <td>1</td>\n",
       "      <td>4.844187</td>\n",
       "      <td>4.844187</td>\n",
       "      <td>0</td>\n",
       "    </tr>\n",
       "    <tr>\n",
       "      <th>814189</th>\n",
       "      <td>C9099941</td>\n",
       "      <td>M</td>\n",
       "      <td>CHENNAI</td>\n",
       "      <td>21</td>\n",
       "      <td>103</td>\n",
       "      <td>1</td>\n",
       "      <td>3.931826</td>\n",
       "      <td>3.931826</td>\n",
       "      <td>0</td>\n",
       "    </tr>\n",
       "    <tr>\n",
       "      <th>814190</th>\n",
       "      <td>C9099956</td>\n",
       "      <td>M</td>\n",
       "      <td>MUSSOORIE</td>\n",
       "      <td>34</td>\n",
       "      <td>75</td>\n",
       "      <td>1</td>\n",
       "      <td>6.752270</td>\n",
       "      <td>6.752270</td>\n",
       "      <td>2</td>\n",
       "    </tr>\n",
       "  </tbody>\n",
       "</table>\n",
       "<p>814191 rows × 9 columns</p>\n",
       "</div>"
      ],
      "text/plain": [
       "       CustomerID CustGender CustLocation  Age  Recency  Frequency  \\\n",
       "0        C1010011          F    NEW DELHI   24       74          2   \n",
       "1        C1010012          M       MUMBAI   22      117          1   \n",
       "2        C1010014          F       MUMBAI   32      154          2   \n",
       "3        C1010018          F    CHAMPARAN   26       85          1   \n",
       "4        C1010024          M      KOLKATA   28      113          1   \n",
       "...           ...        ...          ...  ...      ...        ...   \n",
       "814186   C9099836          M     BHIWANDI   26      154          1   \n",
       "814187   C9099877          M    BANGALORE   20       85          1   \n",
       "814188   C9099919          M       GUNTUR   23      113          1   \n",
       "814189   C9099941          M      CHENNAI   21      103          1   \n",
       "814190   C9099956          M    MUSSOORIE   34       75          1   \n",
       "\n",
       "        AvgMonetary  TotalMonetary  Cluster  \n",
       "0          7.171923      14.343846        2  \n",
       "1          7.313220       7.313220        0  \n",
       "2          6.310259      12.620517        0  \n",
       "3          3.433987       3.433987        0  \n",
       "4          8.517393       8.517393        0  \n",
       "...             ...            ...      ...  \n",
       "814186     6.539586       6.539586        0  \n",
       "814187     5.407172       5.407172        0  \n",
       "814188     4.844187       4.844187        0  \n",
       "814189     3.931826       3.931826        0  \n",
       "814190     6.752270       6.752270        2  \n",
       "\n",
       "[814191 rows x 9 columns]"
      ]
     },
     "execution_count": 27,
     "metadata": {},
     "output_type": "execute_result"
    }
   ],
   "source": [
    "#create a dataframe to see things more clearly\n",
    "data_with_clusters = customer_features1.copy()\n",
    "data_with_clusters['Cluster'] = identified_clusters\n",
    "data_with_clusters"
   ]
  },
  {
   "cell_type": "markdown",
   "id": "78050b4d-0c83-4353-9e2a-26daaee57a5f",
   "metadata": {},
   "source": [
    "**Selecting the number of clusters using the elbow method**"
   ]
  },
  {
   "cell_type": "code",
   "execution_count": 32,
   "id": "279d8665-eecc-45b5-96c7-6e1b627205ad",
   "metadata": {},
   "outputs": [
    {
     "data": {
      "text/plain": [
       "727336510.0374475"
      ]
     },
     "execution_count": 32,
     "metadata": {},
     "output_type": "execute_result"
    }
   ],
   "source": [
    "kmeans.inertia_"
   ]
  },
  {
   "cell_type": "code",
   "execution_count": 34,
   "id": "28523e4f-82c6-4452-a391-5aa4859e4634",
   "metadata": {},
   "outputs": [],
   "source": [
    "#to plot the elbow, we need to calculate the WCSS for each cluster\n",
    "#we do this with a loop\n",
    "wcss=[]\n",
    "for i in range(1,11):\n",
    "    kmeans = KMeans(i)\n",
    "    kmeans.fit(x)\n",
    "    wcss_iter = kmeans.inertia_\n",
    "    wcss.append(wcss_iter)"
   ]
  },
  {
   "cell_type": "code",
   "execution_count": 36,
   "id": "5c595597-27e7-4e4f-95bd-46d244b67473",
   "metadata": {},
   "outputs": [
    {
     "data": {
      "text/plain": [
       "[5285376724.623573,\n",
       " 1326602609.3099985,\n",
       " 727336510.0374475,\n",
       " 390660897.98482287,\n",
       " 260649680.21074522,\n",
       " 169964372.57342216,\n",
       " 128451816.01642503,\n",
       " 108492589.12118524,\n",
       " 91631494.31531765,\n",
       " 76231324.27529189]"
      ]
     },
     "execution_count": 36,
     "metadata": {},
     "output_type": "execute_result"
    }
   ],
   "source": [
    "wcss"
   ]
  },
  {
   "cell_type": "markdown",
   "id": "9d906059-5409-40f5-8a76-7ec2148b1a3f",
   "metadata": {},
   "source": [
    "**The elbow method**"
   ]
  },
  {
   "cell_type": "code",
   "execution_count": 41,
   "id": "a2cc922f-a1bb-4b17-abc7-007093efa2f3",
   "metadata": {},
   "outputs": [
    {
     "data": {
      "text/plain": [
       "Text(0, 0.5, 'Within-Cluster Sum of Squares')"
      ]
     },
     "execution_count": 41,
     "metadata": {},
     "output_type": "execute_result"
    },
    {
     "data": {
      "image/png": "[encoded data removed]",
      "text/plain": [
       "<Figure size 640x480 with 1 Axes>"
      ]
     },
     "metadata": {},
     "output_type": "display_data"
    }
   ],
   "source": [
    "number_clusters = range(1,11)\n",
    "plt.plot(number_clusters, wcss)\n",
    "plt.title('The Elbow Method')\n",
    "plt.xlabel('Number of Clusters')\n",
    "plt.ylabel('Within-Cluster Sum of Squares')"
   ]
  },
  {
   "cell_type": "code",
   "execution_count": null,
   "id": "3822fc9e-ebef-4f40-9b60-c611c7309b25",
   "metadata": {},
   "outputs": [],
   "source": []
  }
 ],
 "metadata": {
  "kernelspec": {
   "display_name": "Python [conda env:udemycourse]",
   "language": "python",
   "name": "conda-env-udemycourse-py"
  },
  "language_info": {
   "codemirror_mode": {
    "name": "ipython",
    "version": 3
   },
   "file_extension": ".py",
   "mimetype": "text/x-python",
   "name": "python",
   "nbconvert_exporter": "python",
   "pygments_lexer": "ipython3",
   "version": "3.8.20"
  }
 },
 "nbformat": 4,
 "nbformat_minor": 5
}
