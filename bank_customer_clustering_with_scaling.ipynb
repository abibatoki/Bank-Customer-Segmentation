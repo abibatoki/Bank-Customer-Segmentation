{
 "cells": [
  {
   "cell_type": "markdown",
   "id": "1d25d805-ac48-4626-9bec-9c918a863e4a",
   "metadata": {},
   "source": [
    "**Import the relevant libraries**"
   ]
  },
  {
   "cell_type": "code",
   "execution_count": 3,
   "id": "aa79d240-ac2f-4d0f-99aa-ac8d4f9e852f",
   "metadata": {},
   "outputs": [],
   "source": [
    "import numpy as np\n",
    "import pandas as pd\n",
    "import matplotlib.pyplot as plt\n",
    "import seaborn as sns\n",
    "sns.set()\n",
    "import warnings\n",
    "\n",
    "from sklearn.cluster import KMeans\n",
    "from sklearn.preprocessing import StandardScaler\n",
    "\n",
    "warnings.filterwarnings('ignore')"
   ]
  },
  {
   "cell_type": "markdown",
   "id": "5a783397-cc23-4b95-80d9-b84b9ac855ed",
   "metadata": {},
   "source": [
    "**Load the data**"
   ]
  },
  {
   "cell_type": "code",
   "execution_count": 5,
   "id": "fb83d72f-6391-4f51-a6a2-ce4349d94875",
   "metadata": {},
   "outputs": [],
   "source": [
    "customer_features1 = pd.read_csv('customer_features1.csv')"
   ]
  },
  {
   "cell_type": "code",
   "execution_count": 6,
   "id": "54145052-c0e0-415b-8d91-3b11232a1f7c",
   "metadata": {},
   "outputs": [
    {
     "data": {
      "text/html": [
       "<div>\n",
       "<style scoped>\n",
       "    .dataframe tbody tr th:only-of-type {\n",
       "        vertical-align: middle;\n",
       "    }\n",
       "\n",
       "    .dataframe tbody tr th {\n",
       "        vertical-align: top;\n",
       "    }\n",
       "\n",
       "    .dataframe thead th {\n",
       "        text-align: right;\n",
       "    }\n",
       "</style>\n",
       "<table border=\"1\" class=\"dataframe\">\n",
       "  <thead>\n",
       "    <tr style=\"text-align: right;\">\n",
       "      <th></th>\n",
       "      <th>CustomerID</th>\n",
       "      <th>CustGender</th>\n",
       "      <th>CustLocation</th>\n",
       "      <th>Age</th>\n",
       "      <th>Recency</th>\n",
       "      <th>Frequency</th>\n",
       "      <th>AvgMonetary</th>\n",
       "      <th>TotalMonetary</th>\n",
       "    </tr>\n",
       "  </thead>\n",
       "  <tbody>\n",
       "    <tr>\n",
       "      <th>0</th>\n",
       "      <td>C1010011</td>\n",
       "      <td>F</td>\n",
       "      <td>NEW DELHI</td>\n",
       "      <td>24</td>\n",
       "      <td>74</td>\n",
       "      <td>2</td>\n",
       "      <td>7.171923</td>\n",
       "      <td>14.343846</td>\n",
       "    </tr>\n",
       "    <tr>\n",
       "      <th>1</th>\n",
       "      <td>C1010012</td>\n",
       "      <td>M</td>\n",
       "      <td>MUMBAI</td>\n",
       "      <td>22</td>\n",
       "      <td>117</td>\n",
       "      <td>1</td>\n",
       "      <td>7.313220</td>\n",
       "      <td>7.313220</td>\n",
       "    </tr>\n",
       "    <tr>\n",
       "      <th>2</th>\n",
       "      <td>C1010014</td>\n",
       "      <td>F</td>\n",
       "      <td>MUMBAI</td>\n",
       "      <td>32</td>\n",
       "      <td>154</td>\n",
       "      <td>2</td>\n",
       "      <td>6.310259</td>\n",
       "      <td>12.620517</td>\n",
       "    </tr>\n",
       "    <tr>\n",
       "      <th>3</th>\n",
       "      <td>C1010018</td>\n",
       "      <td>F</td>\n",
       "      <td>CHAMPARAN</td>\n",
       "      <td>26</td>\n",
       "      <td>85</td>\n",
       "      <td>1</td>\n",
       "      <td>3.433987</td>\n",
       "      <td>3.433987</td>\n",
       "    </tr>\n",
       "    <tr>\n",
       "      <th>4</th>\n",
       "      <td>C1010024</td>\n",
       "      <td>M</td>\n",
       "      <td>KOLKATA</td>\n",
       "      <td>28</td>\n",
       "      <td>113</td>\n",
       "      <td>1</td>\n",
       "      <td>8.517393</td>\n",
       "      <td>8.517393</td>\n",
       "    </tr>\n",
       "    <tr>\n",
       "      <th>...</th>\n",
       "      <td>...</td>\n",
       "      <td>...</td>\n",
       "      <td>...</td>\n",
       "      <td>...</td>\n",
       "      <td>...</td>\n",
       "      <td>...</td>\n",
       "      <td>...</td>\n",
       "      <td>...</td>\n",
       "    </tr>\n",
       "    <tr>\n",
       "      <th>814186</th>\n",
       "      <td>C9099836</td>\n",
       "      <td>M</td>\n",
       "      <td>BHIWANDI</td>\n",
       "      <td>26</td>\n",
       "      <td>154</td>\n",
       "      <td>1</td>\n",
       "      <td>6.539586</td>\n",
       "      <td>6.539586</td>\n",
       "    </tr>\n",
       "    <tr>\n",
       "      <th>814187</th>\n",
       "      <td>C9099877</td>\n",
       "      <td>M</td>\n",
       "      <td>BANGALORE</td>\n",
       "      <td>20</td>\n",
       "      <td>85</td>\n",
       "      <td>1</td>\n",
       "      <td>5.407172</td>\n",
       "      <td>5.407172</td>\n",
       "    </tr>\n",
       "    <tr>\n",
       "      <th>814188</th>\n",
       "      <td>C9099919</td>\n",
       "      <td>M</td>\n",
       "      <td>GUNTUR</td>\n",
       "      <td>23</td>\n",
       "      <td>113</td>\n",
       "      <td>1</td>\n",
       "      <td>4.844187</td>\n",
       "      <td>4.844187</td>\n",
       "    </tr>\n",
       "    <tr>\n",
       "      <th>814189</th>\n",
       "      <td>C9099941</td>\n",
       "      <td>M</td>\n",
       "      <td>CHENNAI</td>\n",
       "      <td>21</td>\n",
       "      <td>103</td>\n",
       "      <td>1</td>\n",
       "      <td>3.931826</td>\n",
       "      <td>3.931826</td>\n",
       "    </tr>\n",
       "    <tr>\n",
       "      <th>814190</th>\n",
       "      <td>C9099956</td>\n",
       "      <td>M</td>\n",
       "      <td>MUSSOORIE</td>\n",
       "      <td>34</td>\n",
       "      <td>75</td>\n",
       "      <td>1</td>\n",
       "      <td>6.752270</td>\n",
       "      <td>6.752270</td>\n",
       "    </tr>\n",
       "  </tbody>\n",
       "</table>\n",
       "<p>814191 rows × 8 columns</p>\n",
       "</div>"
      ],
      "text/plain": [
       "       CustomerID CustGender CustLocation  Age  Recency  Frequency  \\\n",
       "0        C1010011          F    NEW DELHI   24       74          2   \n",
       "1        C1010012          M       MUMBAI   22      117          1   \n",
       "2        C1010014          F       MUMBAI   32      154          2   \n",
       "3        C1010018          F    CHAMPARAN   26       85          1   \n",
       "4        C1010024          M      KOLKATA   28      113          1   \n",
       "...           ...        ...          ...  ...      ...        ...   \n",
       "814186   C9099836          M     BHIWANDI   26      154          1   \n",
       "814187   C9099877          M    BANGALORE   20       85          1   \n",
       "814188   C9099919          M       GUNTUR   23      113          1   \n",
       "814189   C9099941          M      CHENNAI   21      103          1   \n",
       "814190   C9099956          M    MUSSOORIE   34       75          1   \n",
       "\n",
       "        AvgMonetary  TotalMonetary  \n",
       "0          7.171923      14.343846  \n",
       "1          7.313220       7.313220  \n",
       "2          6.310259      12.620517  \n",
       "3          3.433987       3.433987  \n",
       "4          8.517393       8.517393  \n",
       "...             ...            ...  \n",
       "814186     6.539586       6.539586  \n",
       "814187     5.407172       5.407172  \n",
       "814188     4.844187       4.844187  \n",
       "814189     3.931826       3.931826  \n",
       "814190     6.752270       6.752270  \n",
       "\n",
       "[814191 rows x 8 columns]"
      ]
     },
     "execution_count": 6,
     "metadata": {},
     "output_type": "execute_result"
    }
   ],
   "source": [
    "customer_features1"
   ]
  },
  {
   "cell_type": "markdown",
   "id": "db88a897-e8a7-4d70-aadb-5d544ffe7e8c",
   "metadata": {},
   "source": [
    "**Select the features**"
   ]
  },
  {
   "cell_type": "code",
   "execution_count": 8,
   "id": "0e8d13dd-9c85-4739-8fff-f8790cdf34ff",
   "metadata": {},
   "outputs": [],
   "source": [
    "x = customer_features1.iloc[:, 3:8]"
   ]
  },
  {
   "cell_type": "code",
   "execution_count": 9,
   "id": "54b85e8d-36e7-4ef6-bea0-1476a31e75e9",
   "metadata": {},
   "outputs": [
    {
     "data": {
      "text/html": [
       "<div>\n",
       "<style scoped>\n",
       "    .dataframe tbody tr th:only-of-type {\n",
       "        vertical-align: middle;\n",
       "    }\n",
       "\n",
       "    .dataframe tbody tr th {\n",
       "        vertical-align: top;\n",
       "    }\n",
       "\n",
       "    .dataframe thead th {\n",
       "        text-align: right;\n",
       "    }\n",
       "</style>\n",
       "<table border=\"1\" class=\"dataframe\">\n",
       "  <thead>\n",
       "    <tr style=\"text-align: right;\">\n",
       "      <th></th>\n",
       "      <th>Age</th>\n",
       "      <th>Recency</th>\n",
       "      <th>Frequency</th>\n",
       "      <th>AvgMonetary</th>\n",
       "      <th>TotalMonetary</th>\n",
       "    </tr>\n",
       "  </thead>\n",
       "  <tbody>\n",
       "    <tr>\n",
       "      <th>0</th>\n",
       "      <td>24</td>\n",
       "      <td>74</td>\n",
       "      <td>2</td>\n",
       "      <td>7.171923</td>\n",
       "      <td>14.343846</td>\n",
       "    </tr>\n",
       "    <tr>\n",
       "      <th>1</th>\n",
       "      <td>22</td>\n",
       "      <td>117</td>\n",
       "      <td>1</td>\n",
       "      <td>7.313220</td>\n",
       "      <td>7.313220</td>\n",
       "    </tr>\n",
       "    <tr>\n",
       "      <th>2</th>\n",
       "      <td>32</td>\n",
       "      <td>154</td>\n",
       "      <td>2</td>\n",
       "      <td>6.310259</td>\n",
       "      <td>12.620517</td>\n",
       "    </tr>\n",
       "    <tr>\n",
       "      <th>3</th>\n",
       "      <td>26</td>\n",
       "      <td>85</td>\n",
       "      <td>1</td>\n",
       "      <td>3.433987</td>\n",
       "      <td>3.433987</td>\n",
       "    </tr>\n",
       "    <tr>\n",
       "      <th>4</th>\n",
       "      <td>28</td>\n",
       "      <td>113</td>\n",
       "      <td>1</td>\n",
       "      <td>8.517393</td>\n",
       "      <td>8.517393</td>\n",
       "    </tr>\n",
       "    <tr>\n",
       "      <th>...</th>\n",
       "      <td>...</td>\n",
       "      <td>...</td>\n",
       "      <td>...</td>\n",
       "      <td>...</td>\n",
       "      <td>...</td>\n",
       "    </tr>\n",
       "    <tr>\n",
       "      <th>814186</th>\n",
       "      <td>26</td>\n",
       "      <td>154</td>\n",
       "      <td>1</td>\n",
       "      <td>6.539586</td>\n",
       "      <td>6.539586</td>\n",
       "    </tr>\n",
       "    <tr>\n",
       "      <th>814187</th>\n",
       "      <td>20</td>\n",
       "      <td>85</td>\n",
       "      <td>1</td>\n",
       "      <td>5.407172</td>\n",
       "      <td>5.407172</td>\n",
       "    </tr>\n",
       "    <tr>\n",
       "      <th>814188</th>\n",
       "      <td>23</td>\n",
       "      <td>113</td>\n",
       "      <td>1</td>\n",
       "      <td>4.844187</td>\n",
       "      <td>4.844187</td>\n",
       "    </tr>\n",
       "    <tr>\n",
       "      <th>814189</th>\n",
       "      <td>21</td>\n",
       "      <td>103</td>\n",
       "      <td>1</td>\n",
       "      <td>3.931826</td>\n",
       "      <td>3.931826</td>\n",
       "    </tr>\n",
       "    <tr>\n",
       "      <th>814190</th>\n",
       "      <td>34</td>\n",
       "      <td>75</td>\n",
       "      <td>1</td>\n",
       "      <td>6.752270</td>\n",
       "      <td>6.752270</td>\n",
       "    </tr>\n",
       "  </tbody>\n",
       "</table>\n",
       "<p>814191 rows × 5 columns</p>\n",
       "</div>"
      ],
      "text/plain": [
       "        Age  Recency  Frequency  AvgMonetary  TotalMonetary\n",
       "0        24       74          2     7.171923      14.343846\n",
       "1        22      117          1     7.313220       7.313220\n",
       "2        32      154          2     6.310259      12.620517\n",
       "3        26       85          1     3.433987       3.433987\n",
       "4        28      113          1     8.517393       8.517393\n",
       "...     ...      ...        ...          ...            ...\n",
       "814186   26      154          1     6.539586       6.539586\n",
       "814187   20       85          1     5.407172       5.407172\n",
       "814188   23      113          1     4.844187       4.844187\n",
       "814189   21      103          1     3.931826       3.931826\n",
       "814190   34       75          1     6.752270       6.752270\n",
       "\n",
       "[814191 rows x 5 columns]"
      ]
     },
     "execution_count": 9,
     "metadata": {},
     "output_type": "execute_result"
    }
   ],
   "source": [
    "x"
   ]
  },
  {
   "cell_type": "markdown",
   "id": "53187a25-4d77-4a33-8522-176ea443d684",
   "metadata": {},
   "source": [
    "**Standardize the features before clustering**"
   ]
  },
  {
   "cell_type": "code",
   "execution_count": 18,
   "id": "a2cc922f-a1bb-4b17-abc7-007093efa2f3",
   "metadata": {},
   "outputs": [],
   "source": [
    "columns_to_scale = ['Age', 'Recency', 'Frequency', 'AvgMonetary', 'TotalMonetary']"
   ]
  },
  {
   "cell_type": "code",
   "execution_count": 20,
   "id": "6c00d411-9fad-4bd3-ae77-907532729074",
   "metadata": {},
   "outputs": [],
   "source": [
    "#declare a scaler object\n",
    "scaler = StandardScaler()"
   ]
  },
  {
   "cell_type": "code",
   "execution_count": 22,
   "id": "728da3a6-6551-47d6-af33-9365d363b433",
   "metadata": {},
   "outputs": [
    {
     "data": {
      "text/html": [
       "<style>#sk-container-id-1 {color: black;}#sk-container-id-1 pre{padding: 0;}#sk-container-id-1 div.sk-toggleable {background-color: white;}#sk-container-id-1 label.sk-toggleable__label {cursor: pointer;display: block;width: 100%;margin-bottom: 0;padding: 0.3em;box-sizing: border-box;text-align: center;}#sk-container-id-1 label.sk-toggleable__label-arrow:before {content: \"▸\";float: left;margin-right: 0.25em;color: #696969;}#sk-container-id-1 label.sk-toggleable__label-arrow:hover:before {color: black;}#sk-container-id-1 div.sk-estimator:hover label.sk-toggleable__label-arrow:before {color: black;}#sk-container-id-1 div.sk-toggleable__content {max-height: 0;max-width: 0;overflow: hidden;text-align: left;background-color: #f0f8ff;}#sk-container-id-1 div.sk-toggleable__content pre {margin: 0.2em;color: black;border-radius: 0.25em;background-color: #f0f8ff;}#sk-container-id-1 input.sk-toggleable__control:checked~div.sk-toggleable__content {max-height: 200px;max-width: 100%;overflow: auto;}#sk-container-id-1 input.sk-toggleable__control:checked~label.sk-toggleable__label-arrow:before {content: \"▾\";}#sk-container-id-1 div.sk-estimator input.sk-toggleable__control:checked~label.sk-toggleable__label {background-color: #d4ebff;}#sk-container-id-1 div.sk-label input.sk-toggleable__control:checked~label.sk-toggleable__label {background-color: #d4ebff;}#sk-container-id-1 input.sk-hidden--visually {border: 0;clip: rect(1px 1px 1px 1px);clip: rect(1px, 1px, 1px, 1px);height: 1px;margin: -1px;overflow: hidden;padding: 0;position: absolute;width: 1px;}#sk-container-id-1 div.sk-estimator {font-family: monospace;background-color: #f0f8ff;border: 1px dotted black;border-radius: 0.25em;box-sizing: border-box;margin-bottom: 0.5em;}#sk-container-id-1 div.sk-estimator:hover {background-color: #d4ebff;}#sk-container-id-1 div.sk-parallel-item::after {content: \"\";width: 100%;border-bottom: 1px solid gray;flex-grow: 1;}#sk-container-id-1 div.sk-label:hover label.sk-toggleable__label {background-color: #d4ebff;}#sk-container-id-1 div.sk-serial::before {content: \"\";position: absolute;border-left: 1px solid gray;box-sizing: border-box;top: 0;bottom: 0;left: 50%;z-index: 0;}#sk-container-id-1 div.sk-serial {display: flex;flex-direction: column;align-items: center;background-color: white;padding-right: 0.2em;padding-left: 0.2em;position: relative;}#sk-container-id-1 div.sk-item {position: relative;z-index: 1;}#sk-container-id-1 div.sk-parallel {display: flex;align-items: stretch;justify-content: center;background-color: white;position: relative;}#sk-container-id-1 div.sk-item::before, #sk-container-id-1 div.sk-parallel-item::before {content: \"\";position: absolute;border-left: 1px solid gray;box-sizing: border-box;top: 0;bottom: 0;left: 50%;z-index: -1;}#sk-container-id-1 div.sk-parallel-item {display: flex;flex-direction: column;z-index: 1;position: relative;background-color: white;}#sk-container-id-1 div.sk-parallel-item:first-child::after {align-self: flex-end;width: 50%;}#sk-container-id-1 div.sk-parallel-item:last-child::after {align-self: flex-start;width: 50%;}#sk-container-id-1 div.sk-parallel-item:only-child::after {width: 0;}#sk-container-id-1 div.sk-dashed-wrapped {border: 1px dashed gray;margin: 0 0.4em 0.5em 0.4em;box-sizing: border-box;padding-bottom: 0.4em;background-color: white;}#sk-container-id-1 div.sk-label label {font-family: monospace;font-weight: bold;display: inline-block;line-height: 1.2em;}#sk-container-id-1 div.sk-label-container {text-align: center;}#sk-container-id-1 div.sk-container {/* jupyter's `normalize.less` sets `[hidden] { display: none; }` but bootstrap.min.css set `[hidden] { display: none !important; }` so we also need the `!important` here to be able to override the default hidden behavior on the sphinx rendered scikit-learn.org. See: https://github.com/scikit-learn/scikit-learn/issues/21755 */display: inline-block !important;position: relative;}#sk-container-id-1 div.sk-text-repr-fallback {display: none;}</style><div id=\"sk-container-id-1\" class=\"sk-top-container\"><div class=\"sk-text-repr-fallback\"><pre>StandardScaler()</pre><b>In a Jupyter environment, please rerun this cell to show the HTML representation or trust the notebook. <br />On GitHub, the HTML representation is unable to render, please try loading this page with nbviewer.org.</b></div><div class=\"sk-container\" hidden><div class=\"sk-item\"><div class=\"sk-estimator sk-toggleable\"><input class=\"sk-toggleable__control sk-hidden--visually\" id=\"sk-estimator-id-1\" type=\"checkbox\" checked><label for=\"sk-estimator-id-1\" class=\"sk-toggleable__label sk-toggleable__label-arrow\">StandardScaler</label><div class=\"sk-toggleable__content\"><pre>StandardScaler()</pre></div></div></div></div></div>"
      ],
      "text/plain": [
       "StandardScaler()"
      ]
     },
     "execution_count": 22,
     "metadata": {},
     "output_type": "execute_result"
    }
   ],
   "source": [
    "scaler.fit(x)"
   ]
  },
  {
   "cell_type": "code",
   "execution_count": 24,
   "id": "a515f495-49ff-4aa3-ab1e-7cea06c0cc31",
   "metadata": {},
   "outputs": [],
   "source": [
    "x_scaled = scaler.fit_transform(x[columns_to_scale])"
   ]
  },
  {
   "cell_type": "code",
   "execution_count": 26,
   "id": "f39e18ac-7655-49c5-ac3a-8c6222d63902",
   "metadata": {},
   "outputs": [
    {
     "data": {
      "text/plain": [
       "array([[-0.94284168, -0.69043833,  1.92403464,  0.82806146,  2.41461942],\n",
       "       [-1.35228425, -0.15527677, -0.39694904,  0.92430932,  0.11098863],\n",
       "       [ 0.69492856,  0.30521108,  1.92403464,  0.24111923,  1.84995938],\n",
       "       ...,\n",
       "       [-1.14756296, -0.20505924, -0.39694904, -0.75752861, -0.69800638],\n",
       "       [-1.55700553, -0.32951542, -0.39694904, -1.37900426, -0.99694761],\n",
       "       [ 1.10437112, -0.67799271, -0.39694904,  0.54220552, -0.07281033]])"
      ]
     },
     "execution_count": 26,
     "metadata": {},
     "output_type": "execute_result"
    }
   ],
   "source": [
    "x_scaled"
   ]
  },
  {
   "cell_type": "markdown",
   "id": "a88b1504-e6c6-42bf-bd87-57f859a957d1",
   "metadata": {},
   "source": [
    "**New dataframe for the scaled features**"
   ]
  },
  {
   "cell_type": "code",
   "execution_count": 31,
   "id": "649f5081-eb73-4d2e-b162-89b4e88769e4",
   "metadata": {},
   "outputs": [],
   "source": [
    "# Convert the scaled array back into a DataFrame\n",
    "scaled_df = pd.DataFrame(x_scaled, columns=columns_to_scale, index=x.index)"
   ]
  },
  {
   "cell_type": "code",
   "execution_count": 33,
   "id": "b978ffae-ce19-4002-ad77-f0237699ef50",
   "metadata": {},
   "outputs": [
    {
     "data": {
      "text/html": [
       "<div>\n",
       "<style scoped>\n",
       "    .dataframe tbody tr th:only-of-type {\n",
       "        vertical-align: middle;\n",
       "    }\n",
       "\n",
       "    .dataframe tbody tr th {\n",
       "        vertical-align: top;\n",
       "    }\n",
       "\n",
       "    .dataframe thead th {\n",
       "        text-align: right;\n",
       "    }\n",
       "</style>\n",
       "<table border=\"1\" class=\"dataframe\">\n",
       "  <thead>\n",
       "    <tr style=\"text-align: right;\">\n",
       "      <th></th>\n",
       "      <th>Age</th>\n",
       "      <th>Recency</th>\n",
       "      <th>Frequency</th>\n",
       "      <th>AvgMonetary</th>\n",
       "      <th>TotalMonetary</th>\n",
       "    </tr>\n",
       "  </thead>\n",
       "  <tbody>\n",
       "    <tr>\n",
       "      <th>0</th>\n",
       "      <td>-0.942842</td>\n",
       "      <td>-0.690438</td>\n",
       "      <td>1.924035</td>\n",
       "      <td>0.828061</td>\n",
       "      <td>2.414619</td>\n",
       "    </tr>\n",
       "    <tr>\n",
       "      <th>1</th>\n",
       "      <td>-1.352284</td>\n",
       "      <td>-0.155277</td>\n",
       "      <td>-0.396949</td>\n",
       "      <td>0.924309</td>\n",
       "      <td>0.110989</td>\n",
       "    </tr>\n",
       "    <tr>\n",
       "      <th>2</th>\n",
       "      <td>0.694929</td>\n",
       "      <td>0.305211</td>\n",
       "      <td>1.924035</td>\n",
       "      <td>0.241119</td>\n",
       "      <td>1.849959</td>\n",
       "    </tr>\n",
       "    <tr>\n",
       "      <th>3</th>\n",
       "      <td>-0.533399</td>\n",
       "      <td>-0.553537</td>\n",
       "      <td>-0.396949</td>\n",
       "      <td>-1.718118</td>\n",
       "      <td>-1.160068</td>\n",
       "    </tr>\n",
       "    <tr>\n",
       "      <th>4</th>\n",
       "      <td>-0.123957</td>\n",
       "      <td>-0.205059</td>\n",
       "      <td>-0.396949</td>\n",
       "      <td>1.744559</td>\n",
       "      <td>0.505544</td>\n",
       "    </tr>\n",
       "    <tr>\n",
       "      <th>...</th>\n",
       "      <td>...</td>\n",
       "      <td>...</td>\n",
       "      <td>...</td>\n",
       "      <td>...</td>\n",
       "      <td>...</td>\n",
       "    </tr>\n",
       "    <tr>\n",
       "      <th>814186</th>\n",
       "      <td>-0.533399</td>\n",
       "      <td>0.305211</td>\n",
       "      <td>-0.396949</td>\n",
       "      <td>0.397331</td>\n",
       "      <td>-0.142498</td>\n",
       "    </tr>\n",
       "    <tr>\n",
       "      <th>814187</th>\n",
       "      <td>-1.761727</td>\n",
       "      <td>-0.553537</td>\n",
       "      <td>-0.396949</td>\n",
       "      <td>-0.374039</td>\n",
       "      <td>-0.513541</td>\n",
       "    </tr>\n",
       "    <tr>\n",
       "      <th>814188</th>\n",
       "      <td>-1.147563</td>\n",
       "      <td>-0.205059</td>\n",
       "      <td>-0.396949</td>\n",
       "      <td>-0.757529</td>\n",
       "      <td>-0.698006</td>\n",
       "    </tr>\n",
       "    <tr>\n",
       "      <th>814189</th>\n",
       "      <td>-1.557006</td>\n",
       "      <td>-0.329515</td>\n",
       "      <td>-0.396949</td>\n",
       "      <td>-1.379004</td>\n",
       "      <td>-0.996948</td>\n",
       "    </tr>\n",
       "    <tr>\n",
       "      <th>814190</th>\n",
       "      <td>1.104371</td>\n",
       "      <td>-0.677993</td>\n",
       "      <td>-0.396949</td>\n",
       "      <td>0.542206</td>\n",
       "      <td>-0.072810</td>\n",
       "    </tr>\n",
       "  </tbody>\n",
       "</table>\n",
       "<p>814191 rows × 5 columns</p>\n",
       "</div>"
      ],
      "text/plain": [
       "             Age   Recency  Frequency  AvgMonetary  TotalMonetary\n",
       "0      -0.942842 -0.690438   1.924035     0.828061       2.414619\n",
       "1      -1.352284 -0.155277  -0.396949     0.924309       0.110989\n",
       "2       0.694929  0.305211   1.924035     0.241119       1.849959\n",
       "3      -0.533399 -0.553537  -0.396949    -1.718118      -1.160068\n",
       "4      -0.123957 -0.205059  -0.396949     1.744559       0.505544\n",
       "...          ...       ...        ...          ...            ...\n",
       "814186 -0.533399  0.305211  -0.396949     0.397331      -0.142498\n",
       "814187 -1.761727 -0.553537  -0.396949    -0.374039      -0.513541\n",
       "814188 -1.147563 -0.205059  -0.396949    -0.757529      -0.698006\n",
       "814189 -1.557006 -0.329515  -0.396949    -1.379004      -0.996948\n",
       "814190  1.104371 -0.677993  -0.396949     0.542206      -0.072810\n",
       "\n",
       "[814191 rows x 5 columns]"
      ]
     },
     "execution_count": 33,
     "metadata": {},
     "output_type": "execute_result"
    }
   ],
   "source": [
    "scaled_df"
   ]
  },
  {
   "cell_type": "markdown",
   "id": "7d99ab38-7ef7-4869-bd3d-d8d6d7a26ede",
   "metadata": {},
   "source": [
    "**Make a copy of the scaled features**"
   ]
  },
  {
   "cell_type": "code",
   "execution_count": 43,
   "id": "19e82fc1-6d36-4e87-87a6-032f7c9028d6",
   "metadata": {},
   "outputs": [],
   "source": [
    "scaled_num_features = scaled_df.copy()"
   ]
  },
  {
   "cell_type": "code",
   "execution_count": 45,
   "id": "eaa626fd-3b1f-41c1-915a-2fec08092fa0",
   "metadata": {},
   "outputs": [
    {
     "data": {
      "text/html": [
       "<div>\n",
       "<style scoped>\n",
       "    .dataframe tbody tr th:only-of-type {\n",
       "        vertical-align: middle;\n",
       "    }\n",
       "\n",
       "    .dataframe tbody tr th {\n",
       "        vertical-align: top;\n",
       "    }\n",
       "\n",
       "    .dataframe thead th {\n",
       "        text-align: right;\n",
       "    }\n",
       "</style>\n",
       "<table border=\"1\" class=\"dataframe\">\n",
       "  <thead>\n",
       "    <tr style=\"text-align: right;\">\n",
       "      <th></th>\n",
       "      <th>Age</th>\n",
       "      <th>Recency</th>\n",
       "      <th>Frequency</th>\n",
       "      <th>AvgMonetary</th>\n",
       "      <th>TotalMonetary</th>\n",
       "    </tr>\n",
       "  </thead>\n",
       "  <tbody>\n",
       "    <tr>\n",
       "      <th>0</th>\n",
       "      <td>-0.942842</td>\n",
       "      <td>-0.690438</td>\n",
       "      <td>1.924035</td>\n",
       "      <td>0.828061</td>\n",
       "      <td>2.414619</td>\n",
       "    </tr>\n",
       "    <tr>\n",
       "      <th>1</th>\n",
       "      <td>-1.352284</td>\n",
       "      <td>-0.155277</td>\n",
       "      <td>-0.396949</td>\n",
       "      <td>0.924309</td>\n",
       "      <td>0.110989</td>\n",
       "    </tr>\n",
       "    <tr>\n",
       "      <th>2</th>\n",
       "      <td>0.694929</td>\n",
       "      <td>0.305211</td>\n",
       "      <td>1.924035</td>\n",
       "      <td>0.241119</td>\n",
       "      <td>1.849959</td>\n",
       "    </tr>\n",
       "    <tr>\n",
       "      <th>3</th>\n",
       "      <td>-0.533399</td>\n",
       "      <td>-0.553537</td>\n",
       "      <td>-0.396949</td>\n",
       "      <td>-1.718118</td>\n",
       "      <td>-1.160068</td>\n",
       "    </tr>\n",
       "    <tr>\n",
       "      <th>4</th>\n",
       "      <td>-0.123957</td>\n",
       "      <td>-0.205059</td>\n",
       "      <td>-0.396949</td>\n",
       "      <td>1.744559</td>\n",
       "      <td>0.505544</td>\n",
       "    </tr>\n",
       "    <tr>\n",
       "      <th>...</th>\n",
       "      <td>...</td>\n",
       "      <td>...</td>\n",
       "      <td>...</td>\n",
       "      <td>...</td>\n",
       "      <td>...</td>\n",
       "    </tr>\n",
       "    <tr>\n",
       "      <th>814186</th>\n",
       "      <td>-0.533399</td>\n",
       "      <td>0.305211</td>\n",
       "      <td>-0.396949</td>\n",
       "      <td>0.397331</td>\n",
       "      <td>-0.142498</td>\n",
       "    </tr>\n",
       "    <tr>\n",
       "      <th>814187</th>\n",
       "      <td>-1.761727</td>\n",
       "      <td>-0.553537</td>\n",
       "      <td>-0.396949</td>\n",
       "      <td>-0.374039</td>\n",
       "      <td>-0.513541</td>\n",
       "    </tr>\n",
       "    <tr>\n",
       "      <th>814188</th>\n",
       "      <td>-1.147563</td>\n",
       "      <td>-0.205059</td>\n",
       "      <td>-0.396949</td>\n",
       "      <td>-0.757529</td>\n",
       "      <td>-0.698006</td>\n",
       "    </tr>\n",
       "    <tr>\n",
       "      <th>814189</th>\n",
       "      <td>-1.557006</td>\n",
       "      <td>-0.329515</td>\n",
       "      <td>-0.396949</td>\n",
       "      <td>-1.379004</td>\n",
       "      <td>-0.996948</td>\n",
       "    </tr>\n",
       "    <tr>\n",
       "      <th>814190</th>\n",
       "      <td>1.104371</td>\n",
       "      <td>-0.677993</td>\n",
       "      <td>-0.396949</td>\n",
       "      <td>0.542206</td>\n",
       "      <td>-0.072810</td>\n",
       "    </tr>\n",
       "  </tbody>\n",
       "</table>\n",
       "<p>814191 rows × 5 columns</p>\n",
       "</div>"
      ],
      "text/plain": [
       "             Age   Recency  Frequency  AvgMonetary  TotalMonetary\n",
       "0      -0.942842 -0.690438   1.924035     0.828061       2.414619\n",
       "1      -1.352284 -0.155277  -0.396949     0.924309       0.110989\n",
       "2       0.694929  0.305211   1.924035     0.241119       1.849959\n",
       "3      -0.533399 -0.553537  -0.396949    -1.718118      -1.160068\n",
       "4      -0.123957 -0.205059  -0.396949     1.744559       0.505544\n",
       "...          ...       ...        ...          ...            ...\n",
       "814186 -0.533399  0.305211  -0.396949     0.397331      -0.142498\n",
       "814187 -1.761727 -0.553537  -0.396949    -0.374039      -0.513541\n",
       "814188 -1.147563 -0.205059  -0.396949    -0.757529      -0.698006\n",
       "814189 -1.557006 -0.329515  -0.396949    -1.379004      -0.996948\n",
       "814190  1.104371 -0.677993  -0.396949     0.542206      -0.072810\n",
       "\n",
       "[814191 rows x 5 columns]"
      ]
     },
     "execution_count": 45,
     "metadata": {},
     "output_type": "execute_result"
    }
   ],
   "source": [
    "scaled_num_features"
   ]
  },
  {
   "cell_type": "markdown",
   "id": "e00d8a47-c935-4cb6-9af7-a87fba678f87",
   "metadata": {},
   "source": [
    "**Clustering**"
   ]
  },
  {
   "cell_type": "code",
   "execution_count": 93,
   "id": "85b189fa-11dc-4beb-84bc-bbe72fabbc1b",
   "metadata": {},
   "outputs": [],
   "source": [
    "kmeans = KMeans(4)"
   ]
  },
  {
   "cell_type": "code",
   "execution_count": 95,
   "id": "0c95453a-d9ce-4357-8855-a6dba82fcaf2",
   "metadata": {},
   "outputs": [
    {
     "data": {
      "text/html": [
       "<style>#sk-container-id-6 {color: black;}#sk-container-id-6 pre{padding: 0;}#sk-container-id-6 div.sk-toggleable {background-color: white;}#sk-container-id-6 label.sk-toggleable__label {cursor: pointer;display: block;width: 100%;margin-bottom: 0;padding: 0.3em;box-sizing: border-box;text-align: center;}#sk-container-id-6 label.sk-toggleable__label-arrow:before {content: \"▸\";float: left;margin-right: 0.25em;color: #696969;}#sk-container-id-6 label.sk-toggleable__label-arrow:hover:before {color: black;}#sk-container-id-6 div.sk-estimator:hover label.sk-toggleable__label-arrow:before {color: black;}#sk-container-id-6 div.sk-toggleable__content {max-height: 0;max-width: 0;overflow: hidden;text-align: left;background-color: #f0f8ff;}#sk-container-id-6 div.sk-toggleable__content pre {margin: 0.2em;color: black;border-radius: 0.25em;background-color: #f0f8ff;}#sk-container-id-6 input.sk-toggleable__control:checked~div.sk-toggleable__content {max-height: 200px;max-width: 100%;overflow: auto;}#sk-container-id-6 input.sk-toggleable__control:checked~label.sk-toggleable__label-arrow:before {content: \"▾\";}#sk-container-id-6 div.sk-estimator input.sk-toggleable__control:checked~label.sk-toggleable__label {background-color: #d4ebff;}#sk-container-id-6 div.sk-label input.sk-toggleable__control:checked~label.sk-toggleable__label {background-color: #d4ebff;}#sk-container-id-6 input.sk-hidden--visually {border: 0;clip: rect(1px 1px 1px 1px);clip: rect(1px, 1px, 1px, 1px);height: 1px;margin: -1px;overflow: hidden;padding: 0;position: absolute;width: 1px;}#sk-container-id-6 div.sk-estimator {font-family: monospace;background-color: #f0f8ff;border: 1px dotted black;border-radius: 0.25em;box-sizing: border-box;margin-bottom: 0.5em;}#sk-container-id-6 div.sk-estimator:hover {background-color: #d4ebff;}#sk-container-id-6 div.sk-parallel-item::after {content: \"\";width: 100%;border-bottom: 1px solid gray;flex-grow: 1;}#sk-container-id-6 div.sk-label:hover label.sk-toggleable__label {background-color: #d4ebff;}#sk-container-id-6 div.sk-serial::before {content: \"\";position: absolute;border-left: 1px solid gray;box-sizing: border-box;top: 0;bottom: 0;left: 50%;z-index: 0;}#sk-container-id-6 div.sk-serial {display: flex;flex-direction: column;align-items: center;background-color: white;padding-right: 0.2em;padding-left: 0.2em;position: relative;}#sk-container-id-6 div.sk-item {position: relative;z-index: 1;}#sk-container-id-6 div.sk-parallel {display: flex;align-items: stretch;justify-content: center;background-color: white;position: relative;}#sk-container-id-6 div.sk-item::before, #sk-container-id-6 div.sk-parallel-item::before {content: \"\";position: absolute;border-left: 1px solid gray;box-sizing: border-box;top: 0;bottom: 0;left: 50%;z-index: -1;}#sk-container-id-6 div.sk-parallel-item {display: flex;flex-direction: column;z-index: 1;position: relative;background-color: white;}#sk-container-id-6 div.sk-parallel-item:first-child::after {align-self: flex-end;width: 50%;}#sk-container-id-6 div.sk-parallel-item:last-child::after {align-self: flex-start;width: 50%;}#sk-container-id-6 div.sk-parallel-item:only-child::after {width: 0;}#sk-container-id-6 div.sk-dashed-wrapped {border: 1px dashed gray;margin: 0 0.4em 0.5em 0.4em;box-sizing: border-box;padding-bottom: 0.4em;background-color: white;}#sk-container-id-6 div.sk-label label {font-family: monospace;font-weight: bold;display: inline-block;line-height: 1.2em;}#sk-container-id-6 div.sk-label-container {text-align: center;}#sk-container-id-6 div.sk-container {/* jupyter's `normalize.less` sets `[hidden] { display: none; }` but bootstrap.min.css set `[hidden] { display: none !important; }` so we also need the `!important` here to be able to override the default hidden behavior on the sphinx rendered scikit-learn.org. See: https://github.com/scikit-learn/scikit-learn/issues/21755 */display: inline-block !important;position: relative;}#sk-container-id-6 div.sk-text-repr-fallback {display: none;}</style><div id=\"sk-container-id-6\" class=\"sk-top-container\"><div class=\"sk-text-repr-fallback\"><pre>KMeans(n_clusters=4)</pre><b>In a Jupyter environment, please rerun this cell to show the HTML representation or trust the notebook. <br />On GitHub, the HTML representation is unable to render, please try loading this page with nbviewer.org.</b></div><div class=\"sk-container\" hidden><div class=\"sk-item\"><div class=\"sk-estimator sk-toggleable\"><input class=\"sk-toggleable__control sk-hidden--visually\" id=\"sk-estimator-id-6\" type=\"checkbox\" checked><label for=\"sk-estimator-id-6\" class=\"sk-toggleable__label sk-toggleable__label-arrow\">KMeans</label><div class=\"sk-toggleable__content\"><pre>KMeans(n_clusters=4)</pre></div></div></div></div></div>"
      ],
      "text/plain": [
       "KMeans(n_clusters=4)"
      ]
     },
     "execution_count": 95,
     "metadata": {},
     "output_type": "execute_result"
    }
   ],
   "source": [
    "kmeans.fit(x_scaled)"
   ]
  },
  {
   "cell_type": "code",
   "execution_count": 97,
   "id": "062c6662-7864-4233-bedd-331bec665cab",
   "metadata": {},
   "outputs": [
    {
     "data": {
      "text/plain": [
       "array([3, 2, 3, ..., 1, 1, 2])"
      ]
     },
     "execution_count": 97,
     "metadata": {},
     "output_type": "execute_result"
    }
   ],
   "source": [
    "identified_clusters = kmeans.fit_predict(scaled_num_features)\n",
    "identified_clusters"
   ]
  },
  {
   "cell_type": "code",
   "execution_count": 99,
   "id": "586cd47e-506a-40d9-9dfd-cf1beb5ad763",
   "metadata": {},
   "outputs": [
    {
     "data": {
      "text/html": [
       "<div>\n",
       "<style scoped>\n",
       "    .dataframe tbody tr th:only-of-type {\n",
       "        vertical-align: middle;\n",
       "    }\n",
       "\n",
       "    .dataframe tbody tr th {\n",
       "        vertical-align: top;\n",
       "    }\n",
       "\n",
       "    .dataframe thead th {\n",
       "        text-align: right;\n",
       "    }\n",
       "</style>\n",
       "<table border=\"1\" class=\"dataframe\">\n",
       "  <thead>\n",
       "    <tr style=\"text-align: right;\">\n",
       "      <th></th>\n",
       "      <th>Age</th>\n",
       "      <th>Recency</th>\n",
       "      <th>Frequency</th>\n",
       "      <th>AvgMonetary</th>\n",
       "      <th>TotalMonetary</th>\n",
       "      <th>Cluster</th>\n",
       "    </tr>\n",
       "  </thead>\n",
       "  <tbody>\n",
       "    <tr>\n",
       "      <th>0</th>\n",
       "      <td>-0.942842</td>\n",
       "      <td>-0.690438</td>\n",
       "      <td>1.924035</td>\n",
       "      <td>0.828061</td>\n",
       "      <td>2.414619</td>\n",
       "      <td>3</td>\n",
       "    </tr>\n",
       "    <tr>\n",
       "      <th>1</th>\n",
       "      <td>-1.352284</td>\n",
       "      <td>-0.155277</td>\n",
       "      <td>-0.396949</td>\n",
       "      <td>0.924309</td>\n",
       "      <td>0.110989</td>\n",
       "      <td>2</td>\n",
       "    </tr>\n",
       "    <tr>\n",
       "      <th>2</th>\n",
       "      <td>0.694929</td>\n",
       "      <td>0.305211</td>\n",
       "      <td>1.924035</td>\n",
       "      <td>0.241119</td>\n",
       "      <td>1.849959</td>\n",
       "      <td>3</td>\n",
       "    </tr>\n",
       "    <tr>\n",
       "      <th>3</th>\n",
       "      <td>-0.533399</td>\n",
       "      <td>-0.553537</td>\n",
       "      <td>-0.396949</td>\n",
       "      <td>-1.718118</td>\n",
       "      <td>-1.160068</td>\n",
       "      <td>1</td>\n",
       "    </tr>\n",
       "    <tr>\n",
       "      <th>4</th>\n",
       "      <td>-0.123957</td>\n",
       "      <td>-0.205059</td>\n",
       "      <td>-0.396949</td>\n",
       "      <td>1.744559</td>\n",
       "      <td>0.505544</td>\n",
       "      <td>2</td>\n",
       "    </tr>\n",
       "    <tr>\n",
       "      <th>...</th>\n",
       "      <td>...</td>\n",
       "      <td>...</td>\n",
       "      <td>...</td>\n",
       "      <td>...</td>\n",
       "      <td>...</td>\n",
       "      <td>...</td>\n",
       "    </tr>\n",
       "    <tr>\n",
       "      <th>814186</th>\n",
       "      <td>-0.533399</td>\n",
       "      <td>0.305211</td>\n",
       "      <td>-0.396949</td>\n",
       "      <td>0.397331</td>\n",
       "      <td>-0.142498</td>\n",
       "      <td>2</td>\n",
       "    </tr>\n",
       "    <tr>\n",
       "      <th>814187</th>\n",
       "      <td>-1.761727</td>\n",
       "      <td>-0.553537</td>\n",
       "      <td>-0.396949</td>\n",
       "      <td>-0.374039</td>\n",
       "      <td>-0.513541</td>\n",
       "      <td>1</td>\n",
       "    </tr>\n",
       "    <tr>\n",
       "      <th>814188</th>\n",
       "      <td>-1.147563</td>\n",
       "      <td>-0.205059</td>\n",
       "      <td>-0.396949</td>\n",
       "      <td>-0.757529</td>\n",
       "      <td>-0.698006</td>\n",
       "      <td>1</td>\n",
       "    </tr>\n",
       "    <tr>\n",
       "      <th>814189</th>\n",
       "      <td>-1.557006</td>\n",
       "      <td>-0.329515</td>\n",
       "      <td>-0.396949</td>\n",
       "      <td>-1.379004</td>\n",
       "      <td>-0.996948</td>\n",
       "      <td>1</td>\n",
       "    </tr>\n",
       "    <tr>\n",
       "      <th>814190</th>\n",
       "      <td>1.104371</td>\n",
       "      <td>-0.677993</td>\n",
       "      <td>-0.396949</td>\n",
       "      <td>0.542206</td>\n",
       "      <td>-0.072810</td>\n",
       "      <td>2</td>\n",
       "    </tr>\n",
       "  </tbody>\n",
       "</table>\n",
       "<p>814191 rows × 6 columns</p>\n",
       "</div>"
      ],
      "text/plain": [
       "             Age   Recency  Frequency  AvgMonetary  TotalMonetary  Cluster\n",
       "0      -0.942842 -0.690438   1.924035     0.828061       2.414619        3\n",
       "1      -1.352284 -0.155277  -0.396949     0.924309       0.110989        2\n",
       "2       0.694929  0.305211   1.924035     0.241119       1.849959        3\n",
       "3      -0.533399 -0.553537  -0.396949    -1.718118      -1.160068        1\n",
       "4      -0.123957 -0.205059  -0.396949     1.744559       0.505544        2\n",
       "...          ...       ...        ...          ...            ...      ...\n",
       "814186 -0.533399  0.305211  -0.396949     0.397331      -0.142498        2\n",
       "814187 -1.761727 -0.553537  -0.396949    -0.374039      -0.513541        1\n",
       "814188 -1.147563 -0.205059  -0.396949    -0.757529      -0.698006        1\n",
       "814189 -1.557006 -0.329515  -0.396949    -1.379004      -0.996948        1\n",
       "814190  1.104371 -0.677993  -0.396949     0.542206      -0.072810        2\n",
       "\n",
       "[814191 rows x 6 columns]"
      ]
     },
     "execution_count": 99,
     "metadata": {},
     "output_type": "execute_result"
    }
   ],
   "source": [
    "#create a dataframe to see things more clearly\n",
    "data_with_clusters = scaled_num_features\n",
    "data_with_clusters['Cluster'] = identified_clusters\n",
    "data_with_clusters"
   ]
  },
  {
   "cell_type": "markdown",
   "id": "51e65adf-8cdf-4df0-8a8d-4218ecd6322e",
   "metadata": {},
   "source": [
    "**Selecting the number of clusters using the elbow method**"
   ]
  },
  {
   "cell_type": "code",
   "execution_count": 77,
   "id": "b8a53169-8910-479f-840d-bc8810cb25c6",
   "metadata": {},
   "outputs": [
    {
     "data": {
      "text/plain": [
       "2153998.3936751923"
      ]
     },
     "execution_count": 77,
     "metadata": {},
     "output_type": "execute_result"
    }
   ],
   "source": [
    "kmeans.inertia_"
   ]
  },
  {
   "cell_type": "code",
   "execution_count": 79,
   "id": "ec24a476-bd42-40d1-96d4-08543c768def",
   "metadata": {},
   "outputs": [],
   "source": [
    "#to plot the elbow, we need to calculate the WCSS for each cluster\n",
    "#we do this with a loop\n",
    "wcss=[]\n",
    "for i in range(1,11):\n",
    "    kmeans = KMeans(i)\n",
    "    kmeans.fit(x_scaled)\n",
    "    wcss_iter = kmeans.inertia_\n",
    "    wcss.append(wcss_iter)"
   ]
  },
  {
   "cell_type": "code",
   "execution_count": 81,
   "id": "b1c4d9f4-d338-44ae-a038-58092a928cc8",
   "metadata": {},
   "outputs": [
    {
     "data": {
      "text/plain": [
       "[4070954.999999975,\n",
       " 2806446.452309836,\n",
       " 2153998.1912693367,\n",
       " 1716576.5066290996,\n",
       " 1464609.450834741,\n",
       " 1321733.8268644244,\n",
       " 1196821.6203200417,\n",
       " 1094890.9214995694,\n",
       " 1015771.2301635682,\n",
       " 944096.153627748]"
      ]
     },
     "execution_count": 81,
     "metadata": {},
     "output_type": "execute_result"
    }
   ],
   "source": [
    "wcss"
   ]
  },
  {
   "cell_type": "markdown",
   "id": "9dd727fb-f5a1-49b5-ad4f-fb1b30719f15",
   "metadata": {},
   "source": [
    "**The elbow method**"
   ]
  },
  {
   "cell_type": "code",
   "execution_count": 84,
   "id": "d5f22916-6a64-4d29-9d7c-ba9f9e8161ca",
   "metadata": {},
   "outputs": [
    {
     "data": {
      "text/plain": [
       "Text(0, 0.5, 'Within-Cluster Sum of Squares')"
      ]
     },
     "execution_count": 84,
     "metadata": {},
     "output_type": "execute_result"
    },
    {
     "data": {
      "image/png": "[encoded data removed]",
      "text/plain": [
       "<Figure size 640x480 with 1 Axes>"
      ]
     },
     "metadata": {},
     "output_type": "display_data"
    }
   ],
   "source": [
    "number_clusters = range(1,11)\n",
    "plt.plot(number_clusters, wcss)\n",
    "plt.title('The Elbow Method')\n",
    "plt.xlabel('Number of Clusters')\n",
    "plt.ylabel('Within-Cluster Sum of Squares')"
   ]
  },
  {
   "cell_type": "markdown",
   "id": "a39b1239-1934-4dad-b9d1-309bf430e4f5",
   "metadata": {},
   "source": [
    "**Create the plot**"
   ]
  },
  {
   "cell_type": "code",
   "execution_count": 101,
   "id": "d94a6d58-d76d-412a-b3f7-a75a4a75f171",
   "metadata": {},
   "outputs": [
    {
     "data": {
      "image/png": "[encoded data removed]",
      "text/plain": [
       "<Figure size 640x480 with 1 Axes>"
      ]
     },
     "metadata": {},
     "output_type": "display_data"
    }
   ],
   "source": [
    "plt.scatter(data_with_clusters['AvgMonetary'], data_with_clusters['Recency'], c=data_with_clusters['Cluster'], cmap='rainbow')\n",
    "plt.xlabel('AvgMonetary')\n",
    "plt.ylabel('Recency')\n",
    "plt.title('Average Monetary vs Recency')\n",
    "plt.show()"
   ]
  },
  {
   "cell_type": "code",
   "execution_count": null,
   "id": "5eb2a320-72b9-4eec-93fc-0535a5f0f7ec",
   "metadata": {},
   "outputs": [],
   "source": []
  },
  {
   "cell_type": "code",
   "execution_count": 103,
   "id": "84c344ef-8f23-4d4d-831e-f58dd33d6a66",
   "metadata": {},
   "outputs": [
    {
     "data": {
      "image/png": "[encoded data removed]",
      "text/plain": [
       "<Figure size 640x480 with 1 Axes>"
      ]
     },
     "metadata": {},
     "output_type": "display_data"
    }
   ],
   "source": [
    "plt.scatter(data_with_clusters['TotalMonetary'], data_with_clusters['Frequency'], c=data_with_clusters['Cluster'], cmap='rainbow')\n",
    "plt.xlabel('Total Monetary')\n",
    "plt.ylabel('Frequency')\n",
    "plt.title('Total Monetary vs Frequency')\n",
    "plt.show()"
   ]
  },
  {
   "cell_type": "code",
   "execution_count": null,
   "id": "683c7958-46f6-410b-bd45-324adf245b2b",
   "metadata": {},
   "outputs": [],
   "source": []
  }
 ],
 "metadata": {
  "kernelspec": {
   "display_name": "Python [conda env:udemycourse]",
   "language": "python",
   "name": "conda-env-udemycourse-py"
  },
  "language_info": {
   "codemirror_mode": {
    "name": "ipython",
    "version": 3
   },
   "file_extension": ".py",
   "mimetype": "text/x-python",
   "name": "python",
   "nbconvert_exporter": "python",
   "pygments_lexer": "ipython3",
   "version": "3.8.20"
  }
 },
 "nbformat": 4,
 "nbformat_minor": 5
}
