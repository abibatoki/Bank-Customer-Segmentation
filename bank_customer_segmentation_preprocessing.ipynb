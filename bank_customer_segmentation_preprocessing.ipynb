{
 "cells": [
  {
   "cell_type": "code",
   "execution_count": 2,
   "id": "6a898536-d5fb-4181-b7eb-2c93bcdee5d1",
   "metadata": {},
   "outputs": [],
   "source": [
    "import numpy as np\n",
    "import pandas as pd\n",
    "import matplotlib.pyplot as plt\n",
    "import seaborn as sns\n",
    "sns.set(style=\"whitegrid\")\n",
    "import warnings\n",
    "\n",
    "from sklearn.cluster import KMeans\n",
    "from sklearn.preprocessing import StandardScaler\n",
    "from collections import Counter\n",
    "\n",
    "warnings.filterwarnings('ignore')"
   ]
  },
  {
   "cell_type": "code",
   "execution_count": 3,
   "id": "21bfcec4-1e8b-46d6-bd2c-96020e9dc512",
   "metadata": {},
   "outputs": [],
   "source": [
    "raw_data = pd.read_csv(r'C:\\Users\\user\\Desktop\\bank_transactions.csv')"
   ]
  },
  {
   "cell_type": "code",
   "execution_count": 4,
   "id": "030d239a-867f-4b45-a80c-e3491a10675a",
   "metadata": {},
   "outputs": [
    {
     "data": {
      "text/html": [
       "<div>\n",
       "<style scoped>\n",
       "    .dataframe tbody tr th:only-of-type {\n",
       "        vertical-align: middle;\n",
       "    }\n",
       "\n",
       "    .dataframe tbody tr th {\n",
       "        vertical-align: top;\n",
       "    }\n",
       "\n",
       "    .dataframe thead th {\n",
       "        text-align: right;\n",
       "    }\n",
       "</style>\n",
       "<table border=\"1\" class=\"dataframe\">\n",
       "  <thead>\n",
       "    <tr style=\"text-align: right;\">\n",
       "      <th></th>\n",
       "      <th>TransactionID</th>\n",
       "      <th>CustomerID</th>\n",
       "      <th>CustomerDOB</th>\n",
       "      <th>CustGender</th>\n",
       "      <th>CustLocation</th>\n",
       "      <th>CustAccountBalance</th>\n",
       "      <th>TransactionDate</th>\n",
       "      <th>TransactionTime</th>\n",
       "      <th>TransactionAmount (INR)</th>\n",
       "    </tr>\n",
       "  </thead>\n",
       "  <tbody>\n",
       "    <tr>\n",
       "      <th>0</th>\n",
       "      <td>T1</td>\n",
       "      <td>C5841053</td>\n",
       "      <td>10/1/94</td>\n",
       "      <td>F</td>\n",
       "      <td>JAMSHEDPUR</td>\n",
       "      <td>17819.05</td>\n",
       "      <td>2/8/16</td>\n",
       "      <td>143207</td>\n",
       "      <td>25.0</td>\n",
       "    </tr>\n",
       "    <tr>\n",
       "      <th>1</th>\n",
       "      <td>T2</td>\n",
       "      <td>C2142763</td>\n",
       "      <td>4/4/57</td>\n",
       "      <td>M</td>\n",
       "      <td>JHAJJAR</td>\n",
       "      <td>2270.69</td>\n",
       "      <td>2/8/16</td>\n",
       "      <td>141858</td>\n",
       "      <td>27999.0</td>\n",
       "    </tr>\n",
       "    <tr>\n",
       "      <th>2</th>\n",
       "      <td>T3</td>\n",
       "      <td>C4417068</td>\n",
       "      <td>26/11/96</td>\n",
       "      <td>F</td>\n",
       "      <td>MUMBAI</td>\n",
       "      <td>17874.44</td>\n",
       "      <td>2/8/16</td>\n",
       "      <td>142712</td>\n",
       "      <td>459.0</td>\n",
       "    </tr>\n",
       "    <tr>\n",
       "      <th>3</th>\n",
       "      <td>T4</td>\n",
       "      <td>C5342380</td>\n",
       "      <td>14/9/73</td>\n",
       "      <td>F</td>\n",
       "      <td>MUMBAI</td>\n",
       "      <td>866503.21</td>\n",
       "      <td>2/8/16</td>\n",
       "      <td>142714</td>\n",
       "      <td>2060.0</td>\n",
       "    </tr>\n",
       "    <tr>\n",
       "      <th>4</th>\n",
       "      <td>T5</td>\n",
       "      <td>C9031234</td>\n",
       "      <td>24/3/88</td>\n",
       "      <td>F</td>\n",
       "      <td>NAVI MUMBAI</td>\n",
       "      <td>6714.43</td>\n",
       "      <td>2/8/16</td>\n",
       "      <td>181156</td>\n",
       "      <td>1762.5</td>\n",
       "    </tr>\n",
       "  </tbody>\n",
       "</table>\n",
       "</div>"
      ],
      "text/plain": [
       "  TransactionID CustomerID CustomerDOB CustGender CustLocation  \\\n",
       "0            T1   C5841053     10/1/94          F   JAMSHEDPUR   \n",
       "1            T2   C2142763      4/4/57          M      JHAJJAR   \n",
       "2            T3   C4417068    26/11/96          F       MUMBAI   \n",
       "3            T4   C5342380     14/9/73          F       MUMBAI   \n",
       "4            T5   C9031234     24/3/88          F  NAVI MUMBAI   \n",
       "\n",
       "   CustAccountBalance TransactionDate  TransactionTime  \\\n",
       "0            17819.05          2/8/16           143207   \n",
       "1             2270.69          2/8/16           141858   \n",
       "2            17874.44          2/8/16           142712   \n",
       "3           866503.21          2/8/16           142714   \n",
       "4             6714.43          2/8/16           181156   \n",
       "\n",
       "   TransactionAmount (INR)  \n",
       "0                     25.0  \n",
       "1                  27999.0  \n",
       "2                    459.0  \n",
       "3                   2060.0  \n",
       "4                   1762.5  "
      ]
     },
     "execution_count": 4,
     "metadata": {},
     "output_type": "execute_result"
    }
   ],
   "source": [
    "raw_data.head()"
   ]
  },
  {
   "cell_type": "markdown",
   "id": "e315a99b-b358-46da-99bc-a9c291727637",
   "metadata": {},
   "source": [
    "**Exploratory Data Analysis**"
   ]
  },
  {
   "cell_type": "code",
   "execution_count": 6,
   "id": "6840a2a9-e198-45d9-b304-81b5fbbef400",
   "metadata": {},
   "outputs": [
    {
     "data": {
      "text/plain": [
       "array(['TransactionID', 'CustomerID', 'CustomerDOB', 'CustGender',\n",
       "       'CustLocation', 'CustAccountBalance', 'TransactionDate',\n",
       "       'TransactionTime', 'TransactionAmount (INR)'], dtype=object)"
      ]
     },
     "execution_count": 6,
     "metadata": {},
     "output_type": "execute_result"
    }
   ],
   "source": [
    "raw_data.columns.values"
   ]
  },
  {
   "cell_type": "code",
   "execution_count": 7,
   "id": "47d34f73-80fc-473c-880d-4bf6ff27ac82",
   "metadata": {},
   "outputs": [
    {
     "name": "stdout",
     "output_type": "stream",
     "text": [
      "shape of the dataset (rows, columns): (1048567, 9)\n"
     ]
    }
   ],
   "source": [
    "#print the shape of the dataset\n",
    "print(\"shape of the dataset (rows, columns):\", raw_data.shape)"
   ]
  },
  {
   "cell_type": "code",
   "execution_count": 8,
   "id": "5d61eb20-8b57-4d0c-bdd0-c2384936d386",
   "metadata": {},
   "outputs": [
    {
     "name": "stdout",
     "output_type": "stream",
     "text": [
      "\n",
      "Data types and memory usage:\n",
      "<class 'pandas.core.frame.DataFrame'>\n",
      "RangeIndex: 1048567 entries, 0 to 1048566\n",
      "Data columns (total 9 columns):\n",
      " #   Column                   Non-Null Count    Dtype  \n",
      "---  ------                   --------------    -----  \n",
      " 0   TransactionID            1048567 non-null  object \n",
      " 1   CustomerID               1048567 non-null  object \n",
      " 2   CustomerDOB              1045170 non-null  object \n",
      " 3   CustGender               1047467 non-null  object \n",
      " 4   CustLocation             1048416 non-null  object \n",
      " 5   CustAccountBalance       1046198 non-null  float64\n",
      " 6   TransactionDate          1048567 non-null  object \n",
      " 7   TransactionTime          1048567 non-null  int64  \n",
      " 8   TransactionAmount (INR)  1048567 non-null  float64\n",
      "dtypes: float64(2), int64(1), object(6)\n",
      "memory usage: 403.5 MB\n",
      "None\n"
     ]
    }
   ],
   "source": [
    "#data types and memory usage\n",
    "print(\"\\nData types and memory usage:\")\n",
    "print(raw_data.info(memory_usage='deep'))"
   ]
  },
  {
   "cell_type": "code",
   "execution_count": 9,
   "id": "3b15f24d-3fe7-4858-8078-8891765df23d",
   "metadata": {},
   "outputs": [],
   "source": [
    "#number of unique customers\n",
    "unique_customers = raw_data['CustomerID'].nunique()"
   ]
  },
  {
   "cell_type": "code",
   "execution_count": 10,
   "id": "d9a15158-0885-4915-9bd3-e4daf3eed98b",
   "metadata": {},
   "outputs": [
    {
     "data": {
      "text/plain": [
       "884265"
      ]
     },
     "execution_count": 10,
     "metadata": {},
     "output_type": "execute_result"
    }
   ],
   "source": [
    "unique_customers"
   ]
  },
  {
   "cell_type": "code",
   "execution_count": 11,
   "id": "e4c934fb-aec7-49f6-901e-72ee41da62bd",
   "metadata": {},
   "outputs": [
    {
     "data": {
      "text/plain": [
       "TransactionID                 0\n",
       "CustomerID                    0\n",
       "CustomerDOB                3397\n",
       "CustGender                 1100\n",
       "CustLocation                151\n",
       "CustAccountBalance         2369\n",
       "TransactionDate               0\n",
       "TransactionTime               0\n",
       "TransactionAmount (INR)       0\n",
       "dtype: int64"
      ]
     },
     "execution_count": 11,
     "metadata": {},
     "output_type": "execute_result"
    }
   ],
   "source": [
    "#check for missing values\n",
    "raw_data.isnull().sum()"
   ]
  },
  {
   "cell_type": "code",
   "execution_count": 12,
   "id": "9c5fcea1-bca7-4aff-ace2-ef1db4ce89cc",
   "metadata": {},
   "outputs": [
    {
     "data": {
      "text/plain": [
       "0"
      ]
     },
     "execution_count": 12,
     "metadata": {},
     "output_type": "execute_result"
    }
   ],
   "source": [
    "#check for duplicate rows (full row duplicates)\n",
    "raw_data.duplicated().sum()"
   ]
  },
  {
   "cell_type": "code",
   "execution_count": 13,
   "id": "6658997f-383e-40e9-89d6-38b4b5a1d91e",
   "metadata": {},
   "outputs": [
    {
     "data": {
      "text/plain": [
       "0"
      ]
     },
     "execution_count": 13,
     "metadata": {},
     "output_type": "execute_result"
    }
   ],
   "source": [
    "#check for partial duplicates on transaction ID\n",
    "raw_data['TransactionID'].duplicated().sum()"
   ]
  },
  {
   "cell_type": "code",
   "execution_count": 14,
   "id": "6717cc1f-d444-4a8a-b19e-fce9d8f50493",
   "metadata": {},
   "outputs": [
    {
     "data": {
      "text/plain": [
       "164302"
      ]
     },
     "execution_count": 14,
     "metadata": {},
     "output_type": "execute_result"
    }
   ],
   "source": [
    "#check for partial duplicates on customer ID\n",
    "# this means many customers have multiple transactions, which is expected.\n",
    "#It reinforces the need to aggregate to customer-level.\n",
    "raw_data['CustomerID'].duplicated().sum()"
   ]
  },
  {
   "cell_type": "code",
   "execution_count": 15,
   "id": "5f31176a-1af5-48b1-8d67-dedb92c46cd4",
   "metadata": {},
   "outputs": [],
   "source": [
    "#clean and format TransactionTime\n",
    "raw_data['TransactionTime'] = raw_data['TransactionTime'].astype(str).str.zfill(6)\n",
    "raw_data['TransactionTime'] = raw_data['TransactionTime'].str.replace(\n",
    "    r'(\\d{2})(\\d{2})(\\d{2})', r'\\1:\\2:\\3', regex=True\n",
    ")"
   ]
  },
  {
   "cell_type": "code",
   "execution_count": 16,
   "id": "02592688-7408-4e7e-983b-509d32d0077d",
   "metadata": {},
   "outputs": [],
   "source": [
    "#convert TransactionDate to string\n",
    "raw_data['TransactionDate'] = raw_data['TransactionDate'].astype(str)"
   ]
  },
  {
   "cell_type": "code",
   "execution_count": 17,
   "id": "4dd31809-3c54-4064-8a60-e968d6d25dc2",
   "metadata": {},
   "outputs": [],
   "source": [
    "# Combine into a single datetime column\n",
    "raw_data['Transaction Timestamp'] = pd.to_datetime(\n",
    "    raw_data['TransactionDate'] + ' ' + raw_data['TransactionTime'],\n",
    "    errors='coerce'\n",
    ")"
   ]
  },
  {
   "cell_type": "code",
   "execution_count": 18,
   "id": "fee61c68-2d16-4048-86e6-47d3d4f9f36e",
   "metadata": {},
   "outputs": [
    {
     "name": "stdout",
     "output_type": "stream",
     "text": [
      "Number of duplicated (Customer ID + Timestamp): 0\n"
     ]
    }
   ],
   "source": [
    "# Check for duplicates by Customer ID + exact timestamp\n",
    "# this shows exact duplicate transactions per customer (same timestamp)\n",
    "#it could be due to system retries, scheduled transactions, or data entry issues\n",
    "duplicate_customer_ts = raw_data.duplicated(subset=['CustomerID', 'Transaction Timestamp']).sum()\n",
    "print(f\"Number of duplicated (Customer ID + Timestamp): {duplicate_customer_ts}\")"
   ]
  },
  {
   "cell_type": "markdown",
   "id": "37acf283-af71-45da-b9f3-875184a6711f",
   "metadata": {},
   "source": [
    "**Dealing with missing values and duplicates**"
   ]
  },
  {
   "cell_type": "code",
   "execution_count": 20,
   "id": "ec2f1fee-f317-4376-a19c-0825f296dbc2",
   "metadata": {},
   "outputs": [],
   "source": [
    "# Remove exact duplicates on Customer ID + Timestamp\n",
    "clean_data = raw_data.drop_duplicates(subset=['CustomerID', 'Transaction Timestamp'])"
   ]
  },
  {
   "cell_type": "code",
   "execution_count": 21,
   "id": "2cbe788a-d0a7-4dc6-99b0-0194fb2bca58",
   "metadata": {},
   "outputs": [
    {
     "data": {
      "text/plain": [
       "TransactionID                 0\n",
       "CustomerID                    0\n",
       "CustomerDOB                3397\n",
       "CustGender                 1100\n",
       "CustLocation                151\n",
       "CustAccountBalance         2369\n",
       "TransactionDate               0\n",
       "TransactionTime               0\n",
       "TransactionAmount (INR)       0\n",
       "Transaction Timestamp         0\n",
       "dtype: int64"
      ]
     },
     "execution_count": 21,
     "metadata": {},
     "output_type": "execute_result"
    }
   ],
   "source": [
    "clean_data.isnull().sum()"
   ]
  },
  {
   "cell_type": "code",
   "execution_count": 22,
   "id": "15fef3bc-915d-4716-aabd-3698c1baf0d7",
   "metadata": {},
   "outputs": [],
   "source": [
    "#fill the missing values in customer account balance with the median\n",
    "# Calculate the median of CustAccountBalance\n",
    "balance_median = clean_data['CustAccountBalance'].median()"
   ]
  },
  {
   "cell_type": "code",
   "execution_count": 23,
   "id": "a33ada3d-d0c6-4179-a246-54ae290436f1",
   "metadata": {},
   "outputs": [],
   "source": [
    "# Fill missing values with the median\n",
    "clean_data['CustAccountBalance'] = clean_data['CustAccountBalance'].fillna(balance_median)"
   ]
  },
  {
   "cell_type": "code",
   "execution_count": 24,
   "id": "c919136a-7444-4b55-b0f7-2ca5b5bde13d",
   "metadata": {},
   "outputs": [],
   "source": [
    "# Drop customers with missing DOBs\n",
    "clean_data = clean_data[clean_data['CustomerDOB'].notna()]"
   ]
  },
  {
   "cell_type": "code",
   "execution_count": 25,
   "id": "b4b81655-f9c2-4233-8560-e5a3279e7dcd",
   "metadata": {},
   "outputs": [],
   "source": [
    "# Fill missing genders with 'Unknown'\n",
    "clean_data['CustGender'] = clean_data['CustGender'].fillna('Unknown')"
   ]
  },
  {
   "cell_type": "code",
   "execution_count": 26,
   "id": "6d4bbbf1-534a-49e8-a29a-25ca0eb95ad0",
   "metadata": {},
   "outputs": [],
   "source": [
    "#fill missing location with unspecified\n",
    "clean_data['CustLocation'] = clean_data['CustLocation'].fillna('Unspecified')"
   ]
  },
  {
   "cell_type": "code",
   "execution_count": 27,
   "id": "b1db7382-fd77-48cd-b8a4-ae426e97f0b2",
   "metadata": {},
   "outputs": [
    {
     "data": {
      "text/plain": [
       "TransactionID              0\n",
       "CustomerID                 0\n",
       "CustomerDOB                0\n",
       "CustGender                 0\n",
       "CustLocation               0\n",
       "CustAccountBalance         0\n",
       "TransactionDate            0\n",
       "TransactionTime            0\n",
       "TransactionAmount (INR)    0\n",
       "Transaction Timestamp      0\n",
       "dtype: int64"
      ]
     },
     "execution_count": 27,
     "metadata": {},
     "output_type": "execute_result"
    }
   ],
   "source": [
    "#check again for missing values\n",
    "clean_data.isnull().sum()"
   ]
  },
  {
   "cell_type": "markdown",
   "id": "6096a657-0df2-4b2d-af3f-5e783a9be1c0",
   "metadata": {},
   "source": [
    "**View the probability distribution function of CustAccountBalance and TransactionAmount (INR)**"
   ]
  },
  {
   "cell_type": "code",
   "execution_count": 29,
   "id": "70e4ef41-ebe1-48ec-9a89-e4511ed7172d",
   "metadata": {},
   "outputs": [
    {
     "data": {
      "text/plain": [
       "<Axes: xlabel='CustAccountBalance', ylabel='Density'>"
      ]
     },
     "execution_count": 29,
     "metadata": {},
     "output_type": "execute_result"
    },
    {
     "data": {
      "image/png": "[encoded data removed]",
      "text/plain": [
       "<Figure size 640x480 with 1 Axes>"
      ]
     },
     "metadata": {},
     "output_type": "display_data"
    }
   ],
   "source": [
    "#before removing outliers\n",
    "sns.distplot(clean_data['CustAccountBalance'])"
   ]
  },
  {
   "cell_type": "code",
   "execution_count": 30,
   "id": "4f701052-1733-4726-a15e-f53b534bc64e",
   "metadata": {},
   "outputs": [],
   "source": [
    "#remove outliers using the quantile method\n",
    "q = clean_data['CustAccountBalance'].quantile(0.99)\n",
    "data_1 = clean_data[clean_data['CustAccountBalance']<q]"
   ]
  },
  {
   "cell_type": "code",
   "execution_count": 31,
   "id": "084ee272-25d4-4f54-9af9-6d328fe7652b",
   "metadata": {},
   "outputs": [
    {
     "data": {
      "text/plain": [
       "<Axes: xlabel='CustAccountBalance', ylabel='Density'>"
      ]
     },
     "execution_count": 31,
     "metadata": {},
     "output_type": "execute_result"
    },
    {
     "data": {
      "image/png": "[encoded data removed]",
      "text/plain": [
       "<Figure size 640x480 with 1 Axes>"
      ]
     },
     "metadata": {},
     "output_type": "display_data"
    }
   ],
   "source": [
    "#after removing outliers in CustAccountBalance\n",
    "sns.distplot(data_1['CustAccountBalance'])"
   ]
  },
  {
   "cell_type": "code",
   "execution_count": 32,
   "id": "b45c842b-1bf3-4a5b-b27a-5a6735a1cfbd",
   "metadata": {},
   "outputs": [
    {
     "data": {
      "text/plain": [
       "<Axes: xlabel='TransactionAmount (INR)', ylabel='Density'>"
      ]
     },
     "execution_count": 32,
     "metadata": {},
     "output_type": "execute_result"
    },
    {
     "data": {
      "image/png": "[encoded data removed]",
      "text/plain": [
       "<Figure size 640x480 with 1 Axes>"
      ]
     },
     "metadata": {},
     "output_type": "display_data"
    }
   ],
   "source": [
    "#before removing outliers\n",
    "sns.distplot(clean_data['TransactionAmount (INR)'])"
   ]
  },
  {
   "cell_type": "code",
   "execution_count": 33,
   "id": "fca2106b-8302-4861-8bf7-7a65ffe568c1",
   "metadata": {},
   "outputs": [],
   "source": [
    "#remove outliers using the quantile method\n",
    "q = clean_data['TransactionAmount (INR)'].quantile(0.99)\n",
    "data_2 = data_1[data_1['TransactionAmount (INR)']<q]"
   ]
  },
  {
   "cell_type": "code",
   "execution_count": 34,
   "id": "64c3c8cf-3b02-4e45-80ca-0aab99d5cd38",
   "metadata": {},
   "outputs": [
    {
     "data": {
      "text/plain": [
       "<Axes: xlabel='TransactionAmount (INR)', ylabel='Density'>"
      ]
     },
     "execution_count": 34,
     "metadata": {},
     "output_type": "execute_result"
    },
    {
     "data": {
      "image/png": "[encoded data removed]",
      "text/plain": [
       "<Figure size 640x480 with 1 Axes>"
      ]
     },
     "metadata": {},
     "output_type": "display_data"
    }
   ],
   "source": [
    "#after removing outliers in TransactionAmount (INR)\n",
    "sns.distplot(data_2['TransactionAmount (INR)'])"
   ]
  },
  {
   "cell_type": "markdown",
   "id": "c1707f95-333e-43b7-95e6-77ac4cb104bf",
   "metadata": {},
   "source": [
    "**Apply log transformation to account balance and transaction amount**"
   ]
  },
  {
   "cell_type": "code",
   "execution_count": 36,
   "id": "ec5b2f34-1730-48fe-8223-da737abd5e56",
   "metadata": {},
   "outputs": [],
   "source": [
    "# Apply log1p to handle zero values safely\n",
    "data_2['log_balance'] = np.log1p(data_2['CustAccountBalance'])\n",
    "data_2['log_txn_amount'] = np.log1p(data_2['TransactionAmount (INR)'])"
   ]
  },
  {
   "cell_type": "code",
   "execution_count": 37,
   "id": "c4d1121d-4619-4ff5-9c82-b8dfc9528656",
   "metadata": {},
   "outputs": [
    {
     "data": {
      "text/html": [
       "<div>\n",
       "<style scoped>\n",
       "    .dataframe tbody tr th:only-of-type {\n",
       "        vertical-align: middle;\n",
       "    }\n",
       "\n",
       "    .dataframe tbody tr th {\n",
       "        vertical-align: top;\n",
       "    }\n",
       "\n",
       "    .dataframe thead th {\n",
       "        text-align: right;\n",
       "    }\n",
       "</style>\n",
       "<table border=\"1\" class=\"dataframe\">\n",
       "  <thead>\n",
       "    <tr style=\"text-align: right;\">\n",
       "      <th></th>\n",
       "      <th>TransactionID</th>\n",
       "      <th>CustomerID</th>\n",
       "      <th>CustomerDOB</th>\n",
       "      <th>CustGender</th>\n",
       "      <th>CustLocation</th>\n",
       "      <th>CustAccountBalance</th>\n",
       "      <th>TransactionDate</th>\n",
       "      <th>TransactionTime</th>\n",
       "      <th>TransactionAmount (INR)</th>\n",
       "      <th>Transaction Timestamp</th>\n",
       "      <th>log_balance</th>\n",
       "      <th>log_txn_amount</th>\n",
       "    </tr>\n",
       "  </thead>\n",
       "  <tbody>\n",
       "    <tr>\n",
       "      <th>0</th>\n",
       "      <td>T1</td>\n",
       "      <td>C5841053</td>\n",
       "      <td>10/1/94</td>\n",
       "      <td>F</td>\n",
       "      <td>JAMSHEDPUR</td>\n",
       "      <td>17819.05</td>\n",
       "      <td>2/8/16</td>\n",
       "      <td>14:32:07</td>\n",
       "      <td>25.0</td>\n",
       "      <td>2016-02-08 14:32:07</td>\n",
       "      <td>9.788080</td>\n",
       "      <td>3.258097</td>\n",
       "    </tr>\n",
       "    <tr>\n",
       "      <th>2</th>\n",
       "      <td>T3</td>\n",
       "      <td>C4417068</td>\n",
       "      <td>26/11/96</td>\n",
       "      <td>F</td>\n",
       "      <td>MUMBAI</td>\n",
       "      <td>17874.44</td>\n",
       "      <td>2/8/16</td>\n",
       "      <td>14:27:12</td>\n",
       "      <td>459.0</td>\n",
       "      <td>2016-02-08 14:27:12</td>\n",
       "      <td>9.791183</td>\n",
       "      <td>6.131226</td>\n",
       "    </tr>\n",
       "    <tr>\n",
       "      <th>3</th>\n",
       "      <td>T4</td>\n",
       "      <td>C5342380</td>\n",
       "      <td>14/9/73</td>\n",
       "      <td>F</td>\n",
       "      <td>MUMBAI</td>\n",
       "      <td>866503.21</td>\n",
       "      <td>2/8/16</td>\n",
       "      <td>14:27:14</td>\n",
       "      <td>2060.0</td>\n",
       "      <td>2016-02-08 14:27:14</td>\n",
       "      <td>13.672222</td>\n",
       "      <td>7.630947</td>\n",
       "    </tr>\n",
       "    <tr>\n",
       "      <th>4</th>\n",
       "      <td>T5</td>\n",
       "      <td>C9031234</td>\n",
       "      <td>24/3/88</td>\n",
       "      <td>F</td>\n",
       "      <td>NAVI MUMBAI</td>\n",
       "      <td>6714.43</td>\n",
       "      <td>2/8/16</td>\n",
       "      <td>18:11:56</td>\n",
       "      <td>1762.5</td>\n",
       "      <td>2016-02-08 18:11:56</td>\n",
       "      <td>8.812163</td>\n",
       "      <td>7.475056</td>\n",
       "    </tr>\n",
       "    <tr>\n",
       "      <th>5</th>\n",
       "      <td>T6</td>\n",
       "      <td>C1536588</td>\n",
       "      <td>8/10/72</td>\n",
       "      <td>F</td>\n",
       "      <td>ITANAGAR</td>\n",
       "      <td>53609.20</td>\n",
       "      <td>2/8/16</td>\n",
       "      <td>17:39:40</td>\n",
       "      <td>676.0</td>\n",
       "      <td>2016-02-08 17:39:40</td>\n",
       "      <td>10.889495</td>\n",
       "      <td>6.517671</td>\n",
       "    </tr>\n",
       "    <tr>\n",
       "      <th>...</th>\n",
       "      <td>...</td>\n",
       "      <td>...</td>\n",
       "      <td>...</td>\n",
       "      <td>...</td>\n",
       "      <td>...</td>\n",
       "      <td>...</td>\n",
       "      <td>...</td>\n",
       "      <td>...</td>\n",
       "      <td>...</td>\n",
       "      <td>...</td>\n",
       "      <td>...</td>\n",
       "      <td>...</td>\n",
       "    </tr>\n",
       "    <tr>\n",
       "      <th>1048562</th>\n",
       "      <td>T1048563</td>\n",
       "      <td>C8020229</td>\n",
       "      <td>8/4/90</td>\n",
       "      <td>M</td>\n",
       "      <td>NEW DELHI</td>\n",
       "      <td>7635.19</td>\n",
       "      <td>18/9/16</td>\n",
       "      <td>18:48:24</td>\n",
       "      <td>799.0</td>\n",
       "      <td>2016-09-18 18:48:24</td>\n",
       "      <td>8.940654</td>\n",
       "      <td>6.684612</td>\n",
       "    </tr>\n",
       "    <tr>\n",
       "      <th>1048563</th>\n",
       "      <td>T1048564</td>\n",
       "      <td>C6459278</td>\n",
       "      <td>20/2/92</td>\n",
       "      <td>M</td>\n",
       "      <td>NASHIK</td>\n",
       "      <td>27311.42</td>\n",
       "      <td>18/9/16</td>\n",
       "      <td>18:37:34</td>\n",
       "      <td>460.0</td>\n",
       "      <td>2016-09-18 18:37:34</td>\n",
       "      <td>10.215097</td>\n",
       "      <td>6.133398</td>\n",
       "    </tr>\n",
       "    <tr>\n",
       "      <th>1048564</th>\n",
       "      <td>T1048565</td>\n",
       "      <td>C6412354</td>\n",
       "      <td>18/5/89</td>\n",
       "      <td>M</td>\n",
       "      <td>HYDERABAD</td>\n",
       "      <td>221757.06</td>\n",
       "      <td>18/9/16</td>\n",
       "      <td>18:33:13</td>\n",
       "      <td>770.0</td>\n",
       "      <td>2016-09-18 18:33:13</td>\n",
       "      <td>12.309342</td>\n",
       "      <td>6.647688</td>\n",
       "    </tr>\n",
       "    <tr>\n",
       "      <th>1048565</th>\n",
       "      <td>T1048566</td>\n",
       "      <td>C6420483</td>\n",
       "      <td>30/8/78</td>\n",
       "      <td>M</td>\n",
       "      <td>VISAKHAPATNAM</td>\n",
       "      <td>10117.87</td>\n",
       "      <td>18/9/16</td>\n",
       "      <td>18:47:06</td>\n",
       "      <td>1000.0</td>\n",
       "      <td>2016-09-18 18:47:06</td>\n",
       "      <td>9.222157</td>\n",
       "      <td>6.908755</td>\n",
       "    </tr>\n",
       "    <tr>\n",
       "      <th>1048566</th>\n",
       "      <td>T1048567</td>\n",
       "      <td>C8337524</td>\n",
       "      <td>5/3/84</td>\n",
       "      <td>M</td>\n",
       "      <td>PUNE</td>\n",
       "      <td>75734.42</td>\n",
       "      <td>18/9/16</td>\n",
       "      <td>18:12:22</td>\n",
       "      <td>1166.0</td>\n",
       "      <td>2016-09-18 18:12:22</td>\n",
       "      <td>11.235001</td>\n",
       "      <td>7.062192</td>\n",
       "    </tr>\n",
       "  </tbody>\n",
       "</table>\n",
       "<p>1024444 rows × 12 columns</p>\n",
       "</div>"
      ],
      "text/plain": [
       "        TransactionID CustomerID CustomerDOB CustGender   CustLocation  \\\n",
       "0                  T1   C5841053     10/1/94          F     JAMSHEDPUR   \n",
       "2                  T3   C4417068    26/11/96          F         MUMBAI   \n",
       "3                  T4   C5342380     14/9/73          F         MUMBAI   \n",
       "4                  T5   C9031234     24/3/88          F    NAVI MUMBAI   \n",
       "5                  T6   C1536588     8/10/72          F       ITANAGAR   \n",
       "...               ...        ...         ...        ...            ...   \n",
       "1048562      T1048563   C8020229      8/4/90          M      NEW DELHI   \n",
       "1048563      T1048564   C6459278     20/2/92          M         NASHIK   \n",
       "1048564      T1048565   C6412354     18/5/89          M      HYDERABAD   \n",
       "1048565      T1048566   C6420483     30/8/78          M  VISAKHAPATNAM   \n",
       "1048566      T1048567   C8337524      5/3/84          M           PUNE   \n",
       "\n",
       "         CustAccountBalance TransactionDate TransactionTime  \\\n",
       "0                  17819.05          2/8/16        14:32:07   \n",
       "2                  17874.44          2/8/16        14:27:12   \n",
       "3                 866503.21          2/8/16        14:27:14   \n",
       "4                   6714.43          2/8/16        18:11:56   \n",
       "5                  53609.20          2/8/16        17:39:40   \n",
       "...                     ...             ...             ...   \n",
       "1048562             7635.19         18/9/16        18:48:24   \n",
       "1048563            27311.42         18/9/16        18:37:34   \n",
       "1048564           221757.06         18/9/16        18:33:13   \n",
       "1048565            10117.87         18/9/16        18:47:06   \n",
       "1048566            75734.42         18/9/16        18:12:22   \n",
       "\n",
       "         TransactionAmount (INR) Transaction Timestamp  log_balance  \\\n",
       "0                           25.0   2016-02-08 14:32:07     9.788080   \n",
       "2                          459.0   2016-02-08 14:27:12     9.791183   \n",
       "3                         2060.0   2016-02-08 14:27:14    13.672222   \n",
       "4                         1762.5   2016-02-08 18:11:56     8.812163   \n",
       "5                          676.0   2016-02-08 17:39:40    10.889495   \n",
       "...                          ...                   ...          ...   \n",
       "1048562                    799.0   2016-09-18 18:48:24     8.940654   \n",
       "1048563                    460.0   2016-09-18 18:37:34    10.215097   \n",
       "1048564                    770.0   2016-09-18 18:33:13    12.309342   \n",
       "1048565                   1000.0   2016-09-18 18:47:06     9.222157   \n",
       "1048566                   1166.0   2016-09-18 18:12:22    11.235001   \n",
       "\n",
       "         log_txn_amount  \n",
       "0              3.258097  \n",
       "2              6.131226  \n",
       "3              7.630947  \n",
       "4              7.475056  \n",
       "5              6.517671  \n",
       "...                 ...  \n",
       "1048562        6.684612  \n",
       "1048563        6.133398  \n",
       "1048564        6.647688  \n",
       "1048565        6.908755  \n",
       "1048566        7.062192  \n",
       "\n",
       "[1024444 rows x 12 columns]"
      ]
     },
     "execution_count": 37,
     "metadata": {},
     "output_type": "execute_result"
    }
   ],
   "source": [
    "data_2"
   ]
  },
  {
   "cell_type": "code",
   "execution_count": null,
   "id": "e74e6353-ad37-4fa9-91c0-7553cb5d298b",
   "metadata": {},
   "outputs": [],
   "source": []
  },
  {
   "cell_type": "markdown",
   "id": "151dfdd0-c68a-4ffd-af4f-3ac56c669cb8",
   "metadata": {},
   "source": [
    "**Address the same CustomerID with different DOB and Gender issue**"
   ]
  },
  {
   "cell_type": "code",
   "execution_count": 39,
   "id": "c96d6d17-ddcc-455b-bf0e-b4e34113538a",
   "metadata": {},
   "outputs": [],
   "source": [
    "#created a function to get the most frequent value (mode) or NaN if there's a tie\n",
    "def most_frequent(series):\n",
    "    counts = series.dropna().value_counts()\n",
    "    if counts.empty:\n",
    "        return np.nan\n",
    "    else:\n",
    "        return counts.idxmax()"
   ]
  },
  {
   "cell_type": "code",
   "execution_count": 40,
   "id": "27f1405f-fd02-47b2-9cc4-fd53c976c85a",
   "metadata": {},
   "outputs": [],
   "source": [
    "#identify customers with multiple DOBs or Genders\n",
    "dob_counts = data_2.groupby('CustomerID')['CustomerDOB'].nunique()\n",
    "gender_counts = data_2.groupby('CustomerID')['CustGender'].nunique()"
   ]
  },
  {
   "cell_type": "code",
   "execution_count": 41,
   "id": "c55faee4-7ec5-4e04-9f56-d89c6d6a8588",
   "metadata": {},
   "outputs": [
    {
     "data": {
      "text/plain": [
       "CustomerID\n",
       "C1010011    2\n",
       "C1010012    1\n",
       "C1010014    2\n",
       "C1010018    1\n",
       "C1010024    1\n",
       "           ..\n",
       "C9099836    1\n",
       "C9099877    1\n",
       "C9099919    1\n",
       "C9099941    1\n",
       "C9099956    1\n",
       "Name: CustomerDOB, Length: 867267, dtype: int64"
      ]
     },
     "execution_count": 41,
     "metadata": {},
     "output_type": "execute_result"
    }
   ],
   "source": [
    "dob_counts"
   ]
  },
  {
   "cell_type": "code",
   "execution_count": 42,
   "id": "a3fe4836-722f-4af1-be75-ec18134b474c",
   "metadata": {},
   "outputs": [
    {
     "data": {
      "text/plain": [
       "CustomerID\n",
       "C1010011    2\n",
       "C1010012    1\n",
       "C1010014    2\n",
       "C1010018    1\n",
       "C1010024    1\n",
       "           ..\n",
       "C9099836    1\n",
       "C9099877    1\n",
       "C9099919    1\n",
       "C9099941    1\n",
       "C9099956    1\n",
       "Name: CustGender, Length: 867267, dtype: int64"
      ]
     },
     "execution_count": 42,
     "metadata": {},
     "output_type": "execute_result"
    }
   ],
   "source": [
    "gender_counts"
   ]
  },
  {
   "cell_type": "code",
   "execution_count": 43,
   "id": "1f95e873-909e-4d19-9168-613fa8932d02",
   "metadata": {},
   "outputs": [
    {
     "name": "stdout",
     "output_type": "stream",
     "text": [
      "Customers with inconsistent DOBs: 136565\n"
     ]
    }
   ],
   "source": [
    "# Customers with multiple DOBs\n",
    "dob_issues = dob_counts[dob_counts > 1]\n",
    "print(f\"Customers with inconsistent DOBs: {len(dob_issues)}\")"
   ]
  },
  {
   "cell_type": "code",
   "execution_count": 44,
   "id": "e6fee65f-78e7-45f3-9cf8-30b30087b38a",
   "metadata": {},
   "outputs": [
    {
     "name": "stdout",
     "output_type": "stream",
     "text": [
      "Customers with inconsistent Genders: 57740\n"
     ]
    }
   ],
   "source": [
    "# Customers with multiple Genders\n",
    "gender_issues = gender_counts[gender_counts > 1]\n",
    "print(f\"Customers with inconsistent Genders: {len(gender_issues)}\")"
   ]
  },
  {
   "cell_type": "code",
   "execution_count": 45,
   "id": "181d4e5e-299a-4c6c-88da-0dc0012b9e71",
   "metadata": {},
   "outputs": [
    {
     "data": {
      "text/plain": [
       "TransactionID              0\n",
       "CustomerID                 0\n",
       "CustomerDOB                0\n",
       "CustGender                 0\n",
       "CustLocation               0\n",
       "CustAccountBalance         0\n",
       "TransactionDate            0\n",
       "TransactionTime            0\n",
       "TransactionAmount (INR)    0\n",
       "Transaction Timestamp      0\n",
       "log_balance                0\n",
       "log_txn_amount             0\n",
       "dtype: int64"
      ]
     },
     "execution_count": 45,
     "metadata": {},
     "output_type": "execute_result"
    }
   ],
   "source": [
    "data_2.isnull().sum()"
   ]
  },
  {
   "cell_type": "code",
   "execution_count": null,
   "id": "235b5dec-1ffe-4b6c-b6f7-97079072852f",
   "metadata": {},
   "outputs": [],
   "source": []
  },
  {
   "cell_type": "code",
   "execution_count": 46,
   "id": "d6699e36-cc8c-4ed3-9813-cfb0ae871a6c",
   "metadata": {},
   "outputs": [],
   "source": [
    "customer_profiles = (\n",
    "    data_2\n",
    "    .groupby('CustomerID')[['CustomerDOB', 'CustGender', 'CustLocation']]\n",
    "    .agg(lambda x: x.mode().iloc[0] if not x.mode().empty else np.nan)\n",
    "    .reset_index()\n",
    ")"
   ]
  },
  {
   "cell_type": "code",
   "execution_count": 47,
   "id": "b35603ba-a38a-4721-9d27-c02d153a0b56",
   "metadata": {},
   "outputs": [],
   "source": [
    "#convert DOB to datetime format\n",
    "customer_profiles['CustomerDOB'] = pd.to_datetime(customer_profiles['CustomerDOB'], errors='coerce')"
   ]
  },
  {
   "cell_type": "code",
   "execution_count": 48,
   "id": "9b4081ed-763b-4d7d-b1db-34aa4262c759",
   "metadata": {},
   "outputs": [],
   "source": [
    "# Derive Age (as of latest transaction date)\n",
    "data_2['TransactionDate'] = pd.to_datetime(data_2['TransactionDate'], errors='coerce')\n",
    "latest_txn_date = data_2['TransactionDate'].max()\n",
    "customer_profiles['Age'] = customer_profiles['CustomerDOB'].apply(\n",
    "    lambda dob: latest_txn_date.year - dob.year if pd.notnull(dob) else np.nan\n",
    ")"
   ]
  },
  {
   "cell_type": "code",
   "execution_count": 49,
   "id": "1922ba8c-5a54-4f23-a9e9-ff1faca96b33",
   "metadata": {},
   "outputs": [
    {
     "data": {
      "text/html": [
       "<div>\n",
       "<style scoped>\n",
       "    .dataframe tbody tr th:only-of-type {\n",
       "        vertical-align: middle;\n",
       "    }\n",
       "\n",
       "    .dataframe tbody tr th {\n",
       "        vertical-align: top;\n",
       "    }\n",
       "\n",
       "    .dataframe thead th {\n",
       "        text-align: right;\n",
       "    }\n",
       "</style>\n",
       "<table border=\"1\" class=\"dataframe\">\n",
       "  <thead>\n",
       "    <tr style=\"text-align: right;\">\n",
       "      <th></th>\n",
       "      <th>CustomerID</th>\n",
       "      <th>CustomerDOB</th>\n",
       "      <th>CustGender</th>\n",
       "      <th>CustLocation</th>\n",
       "      <th>Age</th>\n",
       "    </tr>\n",
       "  </thead>\n",
       "  <tbody>\n",
       "    <tr>\n",
       "      <th>0</th>\n",
       "      <td>C1010011</td>\n",
       "      <td>1992-08-19</td>\n",
       "      <td>F</td>\n",
       "      <td>NEW DELHI</td>\n",
       "      <td>24</td>\n",
       "    </tr>\n",
       "    <tr>\n",
       "      <th>1</th>\n",
       "      <td>C1010012</td>\n",
       "      <td>1994-07-28</td>\n",
       "      <td>M</td>\n",
       "      <td>MUMBAI</td>\n",
       "      <td>22</td>\n",
       "    </tr>\n",
       "    <tr>\n",
       "      <th>2</th>\n",
       "      <td>C1010014</td>\n",
       "      <td>1984-08-19</td>\n",
       "      <td>F</td>\n",
       "      <td>MUMBAI</td>\n",
       "      <td>32</td>\n",
       "    </tr>\n",
       "    <tr>\n",
       "      <th>3</th>\n",
       "      <td>C1010018</td>\n",
       "      <td>1990-05-29</td>\n",
       "      <td>F</td>\n",
       "      <td>CHAMPARAN</td>\n",
       "      <td>26</td>\n",
       "    </tr>\n",
       "    <tr>\n",
       "      <th>4</th>\n",
       "      <td>C1010024</td>\n",
       "      <td>2065-06-21</td>\n",
       "      <td>M</td>\n",
       "      <td>KOLKATA</td>\n",
       "      <td>-49</td>\n",
       "    </tr>\n",
       "  </tbody>\n",
       "</table>\n",
       "</div>"
      ],
      "text/plain": [
       "  CustomerID CustomerDOB CustGender CustLocation  Age\n",
       "0   C1010011  1992-08-19          F    NEW DELHI   24\n",
       "1   C1010012  1994-07-28          M       MUMBAI   22\n",
       "2   C1010014  1984-08-19          F       MUMBAI   32\n",
       "3   C1010018  1990-05-29          F    CHAMPARAN   26\n",
       "4   C1010024  2065-06-21          M      KOLKATA  -49"
      ]
     },
     "metadata": {},
     "output_type": "display_data"
    }
   ],
   "source": [
    "# Preview the cleaned customer master table\n",
    "display(customer_profiles.head())"
   ]
  },
  {
   "cell_type": "markdown",
   "id": "9278b483-1164-4059-bc38-b9595a5e5590",
   "metadata": {},
   "source": [
    "The preview above shows there is an issue with the DOB column because some data points under the age column are negative\n",
    "\n",
    "I have to replace the negative age with the valid median age."
   ]
  },
  {
   "cell_type": "code",
   "execution_count": 51,
   "id": "ebe6679c-722a-4630-8a2d-ec7865d84f79",
   "metadata": {},
   "outputs": [
    {
     "data": {
      "text/html": [
       "<div>\n",
       "<style scoped>\n",
       "    .dataframe tbody tr th:only-of-type {\n",
       "        vertical-align: middle;\n",
       "    }\n",
       "\n",
       "    .dataframe tbody tr th {\n",
       "        vertical-align: top;\n",
       "    }\n",
       "\n",
       "    .dataframe thead th {\n",
       "        text-align: right;\n",
       "    }\n",
       "</style>\n",
       "<table border=\"1\" class=\"dataframe\">\n",
       "  <thead>\n",
       "    <tr style=\"text-align: right;\">\n",
       "      <th></th>\n",
       "      <th>CustomerID</th>\n",
       "      <th>CustomerDOB</th>\n",
       "      <th>CustGender</th>\n",
       "      <th>CustLocation</th>\n",
       "      <th>Age</th>\n",
       "    </tr>\n",
       "  </thead>\n",
       "  <tbody>\n",
       "    <tr>\n",
       "      <th>4</th>\n",
       "      <td>C1010024</td>\n",
       "      <td>2065-06-21</td>\n",
       "      <td>M</td>\n",
       "      <td>KOLKATA</td>\n",
       "      <td>-49</td>\n",
       "    </tr>\n",
       "    <tr>\n",
       "      <th>31</th>\n",
       "      <td>C1010112</td>\n",
       "      <td>2068-03-10</td>\n",
       "      <td>M</td>\n",
       "      <td>GURGAON</td>\n",
       "      <td>-52</td>\n",
       "    </tr>\n",
       "    <tr>\n",
       "      <th>39</th>\n",
       "      <td>C1010133</td>\n",
       "      <td>2070-07-17</td>\n",
       "      <td>M</td>\n",
       "      <td>SURAT</td>\n",
       "      <td>-54</td>\n",
       "    </tr>\n",
       "    <tr>\n",
       "      <th>44</th>\n",
       "      <td>C1010161</td>\n",
       "      <td>2055-12-15</td>\n",
       "      <td>F</td>\n",
       "      <td>CHENNAI</td>\n",
       "      <td>-39</td>\n",
       "    </tr>\n",
       "    <tr>\n",
       "      <th>53</th>\n",
       "      <td>C1010212</td>\n",
       "      <td>2055-04-29</td>\n",
       "      <td>F</td>\n",
       "      <td>DURGAPUR</td>\n",
       "      <td>-39</td>\n",
       "    </tr>\n",
       "    <tr>\n",
       "      <th>...</th>\n",
       "      <td>...</td>\n",
       "      <td>...</td>\n",
       "      <td>...</td>\n",
       "      <td>...</td>\n",
       "      <td>...</td>\n",
       "    </tr>\n",
       "    <tr>\n",
       "      <th>867215</th>\n",
       "      <td>C9098270</td>\n",
       "      <td>2073-07-27</td>\n",
       "      <td>F</td>\n",
       "      <td>PUNE</td>\n",
       "      <td>-57</td>\n",
       "    </tr>\n",
       "    <tr>\n",
       "      <th>867229</th>\n",
       "      <td>C9098760</td>\n",
       "      <td>2071-07-08</td>\n",
       "      <td>M</td>\n",
       "      <td>DELHI</td>\n",
       "      <td>-55</td>\n",
       "    </tr>\n",
       "    <tr>\n",
       "      <th>867237</th>\n",
       "      <td>C9099023</td>\n",
       "      <td>2045-09-13</td>\n",
       "      <td>M</td>\n",
       "      <td>JIND</td>\n",
       "      <td>-29</td>\n",
       "    </tr>\n",
       "    <tr>\n",
       "      <th>867241</th>\n",
       "      <td>C9099142</td>\n",
       "      <td>2070-10-02</td>\n",
       "      <td>M</td>\n",
       "      <td>CHENNAI</td>\n",
       "      <td>-54</td>\n",
       "    </tr>\n",
       "    <tr>\n",
       "      <th>867251</th>\n",
       "      <td>C9099576</td>\n",
       "      <td>2068-05-09</td>\n",
       "      <td>F</td>\n",
       "      <td>RAJKOT</td>\n",
       "      <td>-52</td>\n",
       "    </tr>\n",
       "  </tbody>\n",
       "</table>\n",
       "<p>83657 rows × 5 columns</p>\n",
       "</div>"
      ],
      "text/plain": [
       "       CustomerID CustomerDOB CustGender CustLocation  Age\n",
       "4        C1010024  2065-06-21          M      KOLKATA  -49\n",
       "31       C1010112  2068-03-10          M      GURGAON  -52\n",
       "39       C1010133  2070-07-17          M        SURAT  -54\n",
       "44       C1010161  2055-12-15          F      CHENNAI  -39\n",
       "53       C1010212  2055-04-29          F     DURGAPUR  -39\n",
       "...           ...         ...        ...          ...  ...\n",
       "867215   C9098270  2073-07-27          F         PUNE  -57\n",
       "867229   C9098760  2071-07-08          M        DELHI  -55\n",
       "867237   C9099023  2045-09-13          M         JIND  -29\n",
       "867241   C9099142  2070-10-02          M      CHENNAI  -54\n",
       "867251   C9099576  2068-05-09          F       RAJKOT  -52\n",
       "\n",
       "[83657 rows x 5 columns]"
      ]
     },
     "metadata": {},
     "output_type": "display_data"
    }
   ],
   "source": [
    "# Filter customers with negative age\n",
    "negative_age_customers = customer_profiles[customer_profiles['Age'] < 0]\n",
    "\n",
    "# Display the result\n",
    "display(negative_age_customers)"
   ]
  },
  {
   "cell_type": "code",
   "execution_count": 52,
   "id": "f5be368c-222b-4238-96e1-ef6f3e7158f5",
   "metadata": {},
   "outputs": [
    {
     "data": {
      "text/plain": [
       "83657"
      ]
     },
     "execution_count": 52,
     "metadata": {},
     "output_type": "execute_result"
    }
   ],
   "source": [
    "# Count of customers with negative age\n",
    "negative_age_customers.shape[0]"
   ]
  },
  {
   "cell_type": "code",
   "execution_count": 53,
   "id": "4ff70492-3e7f-4f0d-a424-83ada1aa05c8",
   "metadata": {},
   "outputs": [],
   "source": [
    "# Compute median of valid ages\n",
    "median_age = customer_profiles[customer_profiles['Age'] >= 0]['Age'].median()"
   ]
  },
  {
   "cell_type": "code",
   "execution_count": 54,
   "id": "a4a650cb-8317-4891-b133-fc1dae797ae6",
   "metadata": {},
   "outputs": [],
   "source": [
    "# Replace negative ages with median\n",
    "customer_profiles.loc[customer_profiles['Age'] < 0, 'Age'] = median_age"
   ]
  },
  {
   "cell_type": "code",
   "execution_count": 55,
   "id": "ac56c54f-4f53-4884-9245-9fea946f14c0",
   "metadata": {},
   "outputs": [
    {
     "data": {
      "text/html": [
       "<div>\n",
       "<style scoped>\n",
       "    .dataframe tbody tr th:only-of-type {\n",
       "        vertical-align: middle;\n",
       "    }\n",
       "\n",
       "    .dataframe tbody tr th {\n",
       "        vertical-align: top;\n",
       "    }\n",
       "\n",
       "    .dataframe thead th {\n",
       "        text-align: right;\n",
       "    }\n",
       "</style>\n",
       "<table border=\"1\" class=\"dataframe\">\n",
       "  <thead>\n",
       "    <tr style=\"text-align: right;\">\n",
       "      <th></th>\n",
       "      <th>CustomerID</th>\n",
       "      <th>CustomerDOB</th>\n",
       "      <th>CustGender</th>\n",
       "      <th>CustLocation</th>\n",
       "      <th>Age</th>\n",
       "    </tr>\n",
       "  </thead>\n",
       "  <tbody>\n",
       "    <tr>\n",
       "      <th>0</th>\n",
       "      <td>C1010011</td>\n",
       "      <td>1992-08-19</td>\n",
       "      <td>F</td>\n",
       "      <td>NEW DELHI</td>\n",
       "      <td>24</td>\n",
       "    </tr>\n",
       "    <tr>\n",
       "      <th>1</th>\n",
       "      <td>C1010012</td>\n",
       "      <td>1994-07-28</td>\n",
       "      <td>M</td>\n",
       "      <td>MUMBAI</td>\n",
       "      <td>22</td>\n",
       "    </tr>\n",
       "    <tr>\n",
       "      <th>2</th>\n",
       "      <td>C1010014</td>\n",
       "      <td>1984-08-19</td>\n",
       "      <td>F</td>\n",
       "      <td>MUMBAI</td>\n",
       "      <td>32</td>\n",
       "    </tr>\n",
       "    <tr>\n",
       "      <th>3</th>\n",
       "      <td>C1010018</td>\n",
       "      <td>1990-05-29</td>\n",
       "      <td>F</td>\n",
       "      <td>CHAMPARAN</td>\n",
       "      <td>26</td>\n",
       "    </tr>\n",
       "    <tr>\n",
       "      <th>4</th>\n",
       "      <td>C1010024</td>\n",
       "      <td>2065-06-21</td>\n",
       "      <td>M</td>\n",
       "      <td>KOLKATA</td>\n",
       "      <td>28</td>\n",
       "    </tr>\n",
       "    <tr>\n",
       "      <th>...</th>\n",
       "      <td>...</td>\n",
       "      <td>...</td>\n",
       "      <td>...</td>\n",
       "      <td>...</td>\n",
       "      <td>...</td>\n",
       "    </tr>\n",
       "    <tr>\n",
       "      <th>867262</th>\n",
       "      <td>C9099836</td>\n",
       "      <td>1990-12-24</td>\n",
       "      <td>M</td>\n",
       "      <td>BHIWANDI</td>\n",
       "      <td>26</td>\n",
       "    </tr>\n",
       "    <tr>\n",
       "      <th>867263</th>\n",
       "      <td>C9099877</td>\n",
       "      <td>1996-09-06</td>\n",
       "      <td>M</td>\n",
       "      <td>BANGALORE</td>\n",
       "      <td>20</td>\n",
       "    </tr>\n",
       "    <tr>\n",
       "      <th>867264</th>\n",
       "      <td>C9099919</td>\n",
       "      <td>1993-10-21</td>\n",
       "      <td>M</td>\n",
       "      <td>GUNTUR</td>\n",
       "      <td>23</td>\n",
       "    </tr>\n",
       "    <tr>\n",
       "      <th>867265</th>\n",
       "      <td>C9099941</td>\n",
       "      <td>1995-04-22</td>\n",
       "      <td>M</td>\n",
       "      <td>CHENNAI</td>\n",
       "      <td>21</td>\n",
       "    </tr>\n",
       "    <tr>\n",
       "      <th>867266</th>\n",
       "      <td>C9099956</td>\n",
       "      <td>1982-11-09</td>\n",
       "      <td>M</td>\n",
       "      <td>MUSSOORIE</td>\n",
       "      <td>34</td>\n",
       "    </tr>\n",
       "  </tbody>\n",
       "</table>\n",
       "<p>867267 rows × 5 columns</p>\n",
       "</div>"
      ],
      "text/plain": [
       "       CustomerID CustomerDOB CustGender CustLocation  Age\n",
       "0        C1010011  1992-08-19          F    NEW DELHI   24\n",
       "1        C1010012  1994-07-28          M       MUMBAI   22\n",
       "2        C1010014  1984-08-19          F       MUMBAI   32\n",
       "3        C1010018  1990-05-29          F    CHAMPARAN   26\n",
       "4        C1010024  2065-06-21          M      KOLKATA   28\n",
       "...           ...         ...        ...          ...  ...\n",
       "867262   C9099836  1990-12-24          M     BHIWANDI   26\n",
       "867263   C9099877  1996-09-06          M    BANGALORE   20\n",
       "867264   C9099919  1993-10-21          M       GUNTUR   23\n",
       "867265   C9099941  1995-04-22          M      CHENNAI   21\n",
       "867266   C9099956  1982-11-09          M    MUSSOORIE   34\n",
       "\n",
       "[867267 rows x 5 columns]"
      ]
     },
     "execution_count": 55,
     "metadata": {},
     "output_type": "execute_result"
    }
   ],
   "source": [
    "customer_profiles"
   ]
  },
  {
   "cell_type": "code",
   "execution_count": 56,
   "id": "1bdf6ea9-7fbb-449b-9334-414eccc9412b",
   "metadata": {},
   "outputs": [],
   "source": [
    "# Filter customers with negative age\n",
    "negative_age_customers = customer_profiles[customer_profiles['Age'] < 0]"
   ]
  },
  {
   "cell_type": "code",
   "execution_count": 57,
   "id": "6747f3a9-d634-424b-94dc-55cd9d7849eb",
   "metadata": {},
   "outputs": [
    {
     "data": {
      "text/plain": [
       "0"
      ]
     },
     "execution_count": 57,
     "metadata": {},
     "output_type": "execute_result"
    }
   ],
   "source": [
    "# Count of customers with negative age\n",
    "negative_age_customers.shape[0]"
   ]
  },
  {
   "cell_type": "code",
   "execution_count": 58,
   "id": "eb778011-d3e9-476c-8c76-231920228856",
   "metadata": {},
   "outputs": [],
   "source": [
    "#I no longer need the CustomerDOB column\n",
    "customer_profiles.drop(columns=['CustomerDOB'], inplace=True)"
   ]
  },
  {
   "cell_type": "code",
   "execution_count": 59,
   "id": "fa89f28b-0d11-43bf-9955-63cb033e15ac",
   "metadata": {},
   "outputs": [
    {
     "data": {
      "text/html": [
       "<div>\n",
       "<style scoped>\n",
       "    .dataframe tbody tr th:only-of-type {\n",
       "        vertical-align: middle;\n",
       "    }\n",
       "\n",
       "    .dataframe tbody tr th {\n",
       "        vertical-align: top;\n",
       "    }\n",
       "\n",
       "    .dataframe thead th {\n",
       "        text-align: right;\n",
       "    }\n",
       "</style>\n",
       "<table border=\"1\" class=\"dataframe\">\n",
       "  <thead>\n",
       "    <tr style=\"text-align: right;\">\n",
       "      <th></th>\n",
       "      <th>CustomerID</th>\n",
       "      <th>CustGender</th>\n",
       "      <th>CustLocation</th>\n",
       "      <th>Age</th>\n",
       "    </tr>\n",
       "  </thead>\n",
       "  <tbody>\n",
       "    <tr>\n",
       "      <th>0</th>\n",
       "      <td>C1010011</td>\n",
       "      <td>F</td>\n",
       "      <td>NEW DELHI</td>\n",
       "      <td>24</td>\n",
       "    </tr>\n",
       "    <tr>\n",
       "      <th>1</th>\n",
       "      <td>C1010012</td>\n",
       "      <td>M</td>\n",
       "      <td>MUMBAI</td>\n",
       "      <td>22</td>\n",
       "    </tr>\n",
       "    <tr>\n",
       "      <th>2</th>\n",
       "      <td>C1010014</td>\n",
       "      <td>F</td>\n",
       "      <td>MUMBAI</td>\n",
       "      <td>32</td>\n",
       "    </tr>\n",
       "    <tr>\n",
       "      <th>3</th>\n",
       "      <td>C1010018</td>\n",
       "      <td>F</td>\n",
       "      <td>CHAMPARAN</td>\n",
       "      <td>26</td>\n",
       "    </tr>\n",
       "    <tr>\n",
       "      <th>4</th>\n",
       "      <td>C1010024</td>\n",
       "      <td>M</td>\n",
       "      <td>KOLKATA</td>\n",
       "      <td>28</td>\n",
       "    </tr>\n",
       "    <tr>\n",
       "      <th>...</th>\n",
       "      <td>...</td>\n",
       "      <td>...</td>\n",
       "      <td>...</td>\n",
       "      <td>...</td>\n",
       "    </tr>\n",
       "    <tr>\n",
       "      <th>867262</th>\n",
       "      <td>C9099836</td>\n",
       "      <td>M</td>\n",
       "      <td>BHIWANDI</td>\n",
       "      <td>26</td>\n",
       "    </tr>\n",
       "    <tr>\n",
       "      <th>867263</th>\n",
       "      <td>C9099877</td>\n",
       "      <td>M</td>\n",
       "      <td>BANGALORE</td>\n",
       "      <td>20</td>\n",
       "    </tr>\n",
       "    <tr>\n",
       "      <th>867264</th>\n",
       "      <td>C9099919</td>\n",
       "      <td>M</td>\n",
       "      <td>GUNTUR</td>\n",
       "      <td>23</td>\n",
       "    </tr>\n",
       "    <tr>\n",
       "      <th>867265</th>\n",
       "      <td>C9099941</td>\n",
       "      <td>M</td>\n",
       "      <td>CHENNAI</td>\n",
       "      <td>21</td>\n",
       "    </tr>\n",
       "    <tr>\n",
       "      <th>867266</th>\n",
       "      <td>C9099956</td>\n",
       "      <td>M</td>\n",
       "      <td>MUSSOORIE</td>\n",
       "      <td>34</td>\n",
       "    </tr>\n",
       "  </tbody>\n",
       "</table>\n",
       "<p>867267 rows × 4 columns</p>\n",
       "</div>"
      ],
      "text/plain": [
       "       CustomerID CustGender CustLocation  Age\n",
       "0        C1010011          F    NEW DELHI   24\n",
       "1        C1010012          M       MUMBAI   22\n",
       "2        C1010014          F       MUMBAI   32\n",
       "3        C1010018          F    CHAMPARAN   26\n",
       "4        C1010024          M      KOLKATA   28\n",
       "...           ...        ...          ...  ...\n",
       "867262   C9099836          M     BHIWANDI   26\n",
       "867263   C9099877          M    BANGALORE   20\n",
       "867264   C9099919          M       GUNTUR   23\n",
       "867265   C9099941          M      CHENNAI   21\n",
       "867266   C9099956          M    MUSSOORIE   34\n",
       "\n",
       "[867267 rows x 4 columns]"
      ]
     },
     "execution_count": 59,
     "metadata": {},
     "output_type": "execute_result"
    }
   ],
   "source": [
    "customer_profiles"
   ]
  },
  {
   "cell_type": "markdown",
   "id": "a27aeca1-326c-4879-a2b3-628a6adcaf29",
   "metadata": {},
   "source": [
    "**Creating the RFM table**"
   ]
  },
  {
   "cell_type": "code",
   "execution_count": 126,
   "id": "bc0f809e-d63b-4f31-bb0a-3cd04a9263f7",
   "metadata": {},
   "outputs": [],
   "source": [
    "#make a copy of data_2 and delete unwanted columns\n",
    "data_3 = data_2.copy()"
   ]
  },
  {
   "cell_type": "code",
   "execution_count": 128,
   "id": "6d94cde0-8274-4a15-aeb7-27d87d00a90a",
   "metadata": {},
   "outputs": [
    {
     "data": {
      "text/html": [
       "<div>\n",
       "<style scoped>\n",
       "    .dataframe tbody tr th:only-of-type {\n",
       "        vertical-align: middle;\n",
       "    }\n",
       "\n",
       "    .dataframe tbody tr th {\n",
       "        vertical-align: top;\n",
       "    }\n",
       "\n",
       "    .dataframe thead th {\n",
       "        text-align: right;\n",
       "    }\n",
       "</style>\n",
       "<table border=\"1\" class=\"dataframe\">\n",
       "  <thead>\n",
       "    <tr style=\"text-align: right;\">\n",
       "      <th></th>\n",
       "      <th>TransactionID</th>\n",
       "      <th>CustomerID</th>\n",
       "      <th>CustomerDOB</th>\n",
       "      <th>CustGender</th>\n",
       "      <th>CustLocation</th>\n",
       "      <th>CustAccountBalance</th>\n",
       "      <th>TransactionDate</th>\n",
       "      <th>TransactionTime</th>\n",
       "      <th>TransactionAmount (INR)</th>\n",
       "      <th>Transaction Timestamp</th>\n",
       "      <th>log_balance</th>\n",
       "      <th>log_txn_amount</th>\n",
       "    </tr>\n",
       "  </thead>\n",
       "  <tbody>\n",
       "    <tr>\n",
       "      <th>0</th>\n",
       "      <td>T1</td>\n",
       "      <td>C5841053</td>\n",
       "      <td>10/1/94</td>\n",
       "      <td>F</td>\n",
       "      <td>JAMSHEDPUR</td>\n",
       "      <td>17819.05</td>\n",
       "      <td>2016-02-08</td>\n",
       "      <td>14:32:07</td>\n",
       "      <td>25.0</td>\n",
       "      <td>2016-02-08 14:32:07</td>\n",
       "      <td>9.788080</td>\n",
       "      <td>3.258097</td>\n",
       "    </tr>\n",
       "    <tr>\n",
       "      <th>2</th>\n",
       "      <td>T3</td>\n",
       "      <td>C4417068</td>\n",
       "      <td>26/11/96</td>\n",
       "      <td>F</td>\n",
       "      <td>MUMBAI</td>\n",
       "      <td>17874.44</td>\n",
       "      <td>2016-02-08</td>\n",
       "      <td>14:27:12</td>\n",
       "      <td>459.0</td>\n",
       "      <td>2016-02-08 14:27:12</td>\n",
       "      <td>9.791183</td>\n",
       "      <td>6.131226</td>\n",
       "    </tr>\n",
       "    <tr>\n",
       "      <th>3</th>\n",
       "      <td>T4</td>\n",
       "      <td>C5342380</td>\n",
       "      <td>14/9/73</td>\n",
       "      <td>F</td>\n",
       "      <td>MUMBAI</td>\n",
       "      <td>866503.21</td>\n",
       "      <td>2016-02-08</td>\n",
       "      <td>14:27:14</td>\n",
       "      <td>2060.0</td>\n",
       "      <td>2016-02-08 14:27:14</td>\n",
       "      <td>13.672222</td>\n",
       "      <td>7.630947</td>\n",
       "    </tr>\n",
       "    <tr>\n",
       "      <th>4</th>\n",
       "      <td>T5</td>\n",
       "      <td>C9031234</td>\n",
       "      <td>24/3/88</td>\n",
       "      <td>F</td>\n",
       "      <td>NAVI MUMBAI</td>\n",
       "      <td>6714.43</td>\n",
       "      <td>2016-02-08</td>\n",
       "      <td>18:11:56</td>\n",
       "      <td>1762.5</td>\n",
       "      <td>2016-02-08 18:11:56</td>\n",
       "      <td>8.812163</td>\n",
       "      <td>7.475056</td>\n",
       "    </tr>\n",
       "    <tr>\n",
       "      <th>5</th>\n",
       "      <td>T6</td>\n",
       "      <td>C1536588</td>\n",
       "      <td>8/10/72</td>\n",
       "      <td>F</td>\n",
       "      <td>ITANAGAR</td>\n",
       "      <td>53609.20</td>\n",
       "      <td>2016-02-08</td>\n",
       "      <td>17:39:40</td>\n",
       "      <td>676.0</td>\n",
       "      <td>2016-02-08 17:39:40</td>\n",
       "      <td>10.889495</td>\n",
       "      <td>6.517671</td>\n",
       "    </tr>\n",
       "    <tr>\n",
       "      <th>...</th>\n",
       "      <td>...</td>\n",
       "      <td>...</td>\n",
       "      <td>...</td>\n",
       "      <td>...</td>\n",
       "      <td>...</td>\n",
       "      <td>...</td>\n",
       "      <td>...</td>\n",
       "      <td>...</td>\n",
       "      <td>...</td>\n",
       "      <td>...</td>\n",
       "      <td>...</td>\n",
       "      <td>...</td>\n",
       "    </tr>\n",
       "    <tr>\n",
       "      <th>1048562</th>\n",
       "      <td>T1048563</td>\n",
       "      <td>C8020229</td>\n",
       "      <td>8/4/90</td>\n",
       "      <td>M</td>\n",
       "      <td>NEW DELHI</td>\n",
       "      <td>7635.19</td>\n",
       "      <td>2016-09-18</td>\n",
       "      <td>18:48:24</td>\n",
       "      <td>799.0</td>\n",
       "      <td>2016-09-18 18:48:24</td>\n",
       "      <td>8.940654</td>\n",
       "      <td>6.684612</td>\n",
       "    </tr>\n",
       "    <tr>\n",
       "      <th>1048563</th>\n",
       "      <td>T1048564</td>\n",
       "      <td>C6459278</td>\n",
       "      <td>20/2/92</td>\n",
       "      <td>M</td>\n",
       "      <td>NASHIK</td>\n",
       "      <td>27311.42</td>\n",
       "      <td>2016-09-18</td>\n",
       "      <td>18:37:34</td>\n",
       "      <td>460.0</td>\n",
       "      <td>2016-09-18 18:37:34</td>\n",
       "      <td>10.215097</td>\n",
       "      <td>6.133398</td>\n",
       "    </tr>\n",
       "    <tr>\n",
       "      <th>1048564</th>\n",
       "      <td>T1048565</td>\n",
       "      <td>C6412354</td>\n",
       "      <td>18/5/89</td>\n",
       "      <td>M</td>\n",
       "      <td>HYDERABAD</td>\n",
       "      <td>221757.06</td>\n",
       "      <td>2016-09-18</td>\n",
       "      <td>18:33:13</td>\n",
       "      <td>770.0</td>\n",
       "      <td>2016-09-18 18:33:13</td>\n",
       "      <td>12.309342</td>\n",
       "      <td>6.647688</td>\n",
       "    </tr>\n",
       "    <tr>\n",
       "      <th>1048565</th>\n",
       "      <td>T1048566</td>\n",
       "      <td>C6420483</td>\n",
       "      <td>30/8/78</td>\n",
       "      <td>M</td>\n",
       "      <td>VISAKHAPATNAM</td>\n",
       "      <td>10117.87</td>\n",
       "      <td>2016-09-18</td>\n",
       "      <td>18:47:06</td>\n",
       "      <td>1000.0</td>\n",
       "      <td>2016-09-18 18:47:06</td>\n",
       "      <td>9.222157</td>\n",
       "      <td>6.908755</td>\n",
       "    </tr>\n",
       "    <tr>\n",
       "      <th>1048566</th>\n",
       "      <td>T1048567</td>\n",
       "      <td>C8337524</td>\n",
       "      <td>5/3/84</td>\n",
       "      <td>M</td>\n",
       "      <td>PUNE</td>\n",
       "      <td>75734.42</td>\n",
       "      <td>2016-09-18</td>\n",
       "      <td>18:12:22</td>\n",
       "      <td>1166.0</td>\n",
       "      <td>2016-09-18 18:12:22</td>\n",
       "      <td>11.235001</td>\n",
       "      <td>7.062192</td>\n",
       "    </tr>\n",
       "  </tbody>\n",
       "</table>\n",
       "<p>1024444 rows × 12 columns</p>\n",
       "</div>"
      ],
      "text/plain": [
       "        TransactionID CustomerID CustomerDOB CustGender   CustLocation  \\\n",
       "0                  T1   C5841053     10/1/94          F     JAMSHEDPUR   \n",
       "2                  T3   C4417068    26/11/96          F         MUMBAI   \n",
       "3                  T4   C5342380     14/9/73          F         MUMBAI   \n",
       "4                  T5   C9031234     24/3/88          F    NAVI MUMBAI   \n",
       "5                  T6   C1536588     8/10/72          F       ITANAGAR   \n",
       "...               ...        ...         ...        ...            ...   \n",
       "1048562      T1048563   C8020229      8/4/90          M      NEW DELHI   \n",
       "1048563      T1048564   C6459278     20/2/92          M         NASHIK   \n",
       "1048564      T1048565   C6412354     18/5/89          M      HYDERABAD   \n",
       "1048565      T1048566   C6420483     30/8/78          M  VISAKHAPATNAM   \n",
       "1048566      T1048567   C8337524      5/3/84          M           PUNE   \n",
       "\n",
       "         CustAccountBalance TransactionDate TransactionTime  \\\n",
       "0                  17819.05      2016-02-08        14:32:07   \n",
       "2                  17874.44      2016-02-08        14:27:12   \n",
       "3                 866503.21      2016-02-08        14:27:14   \n",
       "4                   6714.43      2016-02-08        18:11:56   \n",
       "5                  53609.20      2016-02-08        17:39:40   \n",
       "...                     ...             ...             ...   \n",
       "1048562             7635.19      2016-09-18        18:48:24   \n",
       "1048563            27311.42      2016-09-18        18:37:34   \n",
       "1048564           221757.06      2016-09-18        18:33:13   \n",
       "1048565            10117.87      2016-09-18        18:47:06   \n",
       "1048566            75734.42      2016-09-18        18:12:22   \n",
       "\n",
       "         TransactionAmount (INR) Transaction Timestamp  log_balance  \\\n",
       "0                           25.0   2016-02-08 14:32:07     9.788080   \n",
       "2                          459.0   2016-02-08 14:27:12     9.791183   \n",
       "3                         2060.0   2016-02-08 14:27:14    13.672222   \n",
       "4                         1762.5   2016-02-08 18:11:56     8.812163   \n",
       "5                          676.0   2016-02-08 17:39:40    10.889495   \n",
       "...                          ...                   ...          ...   \n",
       "1048562                    799.0   2016-09-18 18:48:24     8.940654   \n",
       "1048563                    460.0   2016-09-18 18:37:34    10.215097   \n",
       "1048564                    770.0   2016-09-18 18:33:13    12.309342   \n",
       "1048565                   1000.0   2016-09-18 18:47:06     9.222157   \n",
       "1048566                   1166.0   2016-09-18 18:12:22    11.235001   \n",
       "\n",
       "         log_txn_amount  \n",
       "0              3.258097  \n",
       "2              6.131226  \n",
       "3              7.630947  \n",
       "4              7.475056  \n",
       "5              6.517671  \n",
       "...                 ...  \n",
       "1048562        6.684612  \n",
       "1048563        6.133398  \n",
       "1048564        6.647688  \n",
       "1048565        6.908755  \n",
       "1048566        7.062192  \n",
       "\n",
       "[1024444 rows x 12 columns]"
      ]
     },
     "execution_count": 128,
     "metadata": {},
     "output_type": "execute_result"
    }
   ],
   "source": [
    "data_3"
   ]
  },
  {
   "cell_type": "code",
   "execution_count": 130,
   "id": "7deaf7de-77ca-46ad-af63-3ef73f2bae34",
   "metadata": {},
   "outputs": [],
   "source": [
    "#specify the columns to drop\n",
    "columns_to_drop = ['CustomerDOB', 'CustAccountBalance', 'TransactionDate', 'TransactionTime', 'TransactionAmount (INR)']"
   ]
  },
  {
   "cell_type": "code",
   "execution_count": 132,
   "id": "dc93b434-ca4c-4fe6-9503-5b896701dcb7",
   "metadata": {},
   "outputs": [],
   "source": [
    "#drop them from the data\n",
    "data_3 = data_3.drop(columns=columns_to_drop)"
   ]
  },
  {
   "cell_type": "code",
   "execution_count": 134,
   "id": "a2707036-8ab4-4300-a6cc-0a677494097f",
   "metadata": {},
   "outputs": [
    {
     "data": {
      "text/html": [
       "<div>\n",
       "<style scoped>\n",
       "    .dataframe tbody tr th:only-of-type {\n",
       "        vertical-align: middle;\n",
       "    }\n",
       "\n",
       "    .dataframe tbody tr th {\n",
       "        vertical-align: top;\n",
       "    }\n",
       "\n",
       "    .dataframe thead th {\n",
       "        text-align: right;\n",
       "    }\n",
       "</style>\n",
       "<table border=\"1\" class=\"dataframe\">\n",
       "  <thead>\n",
       "    <tr style=\"text-align: right;\">\n",
       "      <th></th>\n",
       "      <th>TransactionID</th>\n",
       "      <th>CustomerID</th>\n",
       "      <th>CustGender</th>\n",
       "      <th>CustLocation</th>\n",
       "      <th>Transaction Timestamp</th>\n",
       "      <th>log_balance</th>\n",
       "      <th>log_txn_amount</th>\n",
       "    </tr>\n",
       "  </thead>\n",
       "  <tbody>\n",
       "    <tr>\n",
       "      <th>0</th>\n",
       "      <td>T1</td>\n",
       "      <td>C5841053</td>\n",
       "      <td>F</td>\n",
       "      <td>JAMSHEDPUR</td>\n",
       "      <td>2016-02-08 14:32:07</td>\n",
       "      <td>9.788080</td>\n",
       "      <td>3.258097</td>\n",
       "    </tr>\n",
       "    <tr>\n",
       "      <th>2</th>\n",
       "      <td>T3</td>\n",
       "      <td>C4417068</td>\n",
       "      <td>F</td>\n",
       "      <td>MUMBAI</td>\n",
       "      <td>2016-02-08 14:27:12</td>\n",
       "      <td>9.791183</td>\n",
       "      <td>6.131226</td>\n",
       "    </tr>\n",
       "    <tr>\n",
       "      <th>3</th>\n",
       "      <td>T4</td>\n",
       "      <td>C5342380</td>\n",
       "      <td>F</td>\n",
       "      <td>MUMBAI</td>\n",
       "      <td>2016-02-08 14:27:14</td>\n",
       "      <td>13.672222</td>\n",
       "      <td>7.630947</td>\n",
       "    </tr>\n",
       "    <tr>\n",
       "      <th>4</th>\n",
       "      <td>T5</td>\n",
       "      <td>C9031234</td>\n",
       "      <td>F</td>\n",
       "      <td>NAVI MUMBAI</td>\n",
       "      <td>2016-02-08 18:11:56</td>\n",
       "      <td>8.812163</td>\n",
       "      <td>7.475056</td>\n",
       "    </tr>\n",
       "    <tr>\n",
       "      <th>5</th>\n",
       "      <td>T6</td>\n",
       "      <td>C1536588</td>\n",
       "      <td>F</td>\n",
       "      <td>ITANAGAR</td>\n",
       "      <td>2016-02-08 17:39:40</td>\n",
       "      <td>10.889495</td>\n",
       "      <td>6.517671</td>\n",
       "    </tr>\n",
       "    <tr>\n",
       "      <th>...</th>\n",
       "      <td>...</td>\n",
       "      <td>...</td>\n",
       "      <td>...</td>\n",
       "      <td>...</td>\n",
       "      <td>...</td>\n",
       "      <td>...</td>\n",
       "      <td>...</td>\n",
       "    </tr>\n",
       "    <tr>\n",
       "      <th>1048562</th>\n",
       "      <td>T1048563</td>\n",
       "      <td>C8020229</td>\n",
       "      <td>M</td>\n",
       "      <td>NEW DELHI</td>\n",
       "      <td>2016-09-18 18:48:24</td>\n",
       "      <td>8.940654</td>\n",
       "      <td>6.684612</td>\n",
       "    </tr>\n",
       "    <tr>\n",
       "      <th>1048563</th>\n",
       "      <td>T1048564</td>\n",
       "      <td>C6459278</td>\n",
       "      <td>M</td>\n",
       "      <td>NASHIK</td>\n",
       "      <td>2016-09-18 18:37:34</td>\n",
       "      <td>10.215097</td>\n",
       "      <td>6.133398</td>\n",
       "    </tr>\n",
       "    <tr>\n",
       "      <th>1048564</th>\n",
       "      <td>T1048565</td>\n",
       "      <td>C6412354</td>\n",
       "      <td>M</td>\n",
       "      <td>HYDERABAD</td>\n",
       "      <td>2016-09-18 18:33:13</td>\n",
       "      <td>12.309342</td>\n",
       "      <td>6.647688</td>\n",
       "    </tr>\n",
       "    <tr>\n",
       "      <th>1048565</th>\n",
       "      <td>T1048566</td>\n",
       "      <td>C6420483</td>\n",
       "      <td>M</td>\n",
       "      <td>VISAKHAPATNAM</td>\n",
       "      <td>2016-09-18 18:47:06</td>\n",
       "      <td>9.222157</td>\n",
       "      <td>6.908755</td>\n",
       "    </tr>\n",
       "    <tr>\n",
       "      <th>1048566</th>\n",
       "      <td>T1048567</td>\n",
       "      <td>C8337524</td>\n",
       "      <td>M</td>\n",
       "      <td>PUNE</td>\n",
       "      <td>2016-09-18 18:12:22</td>\n",
       "      <td>11.235001</td>\n",
       "      <td>7.062192</td>\n",
       "    </tr>\n",
       "  </tbody>\n",
       "</table>\n",
       "<p>1024444 rows × 7 columns</p>\n",
       "</div>"
      ],
      "text/plain": [
       "        TransactionID CustomerID CustGender   CustLocation  \\\n",
       "0                  T1   C5841053          F     JAMSHEDPUR   \n",
       "2                  T3   C4417068          F         MUMBAI   \n",
       "3                  T4   C5342380          F         MUMBAI   \n",
       "4                  T5   C9031234          F    NAVI MUMBAI   \n",
       "5                  T6   C1536588          F       ITANAGAR   \n",
       "...               ...        ...        ...            ...   \n",
       "1048562      T1048563   C8020229          M      NEW DELHI   \n",
       "1048563      T1048564   C6459278          M         NASHIK   \n",
       "1048564      T1048565   C6412354          M      HYDERABAD   \n",
       "1048565      T1048566   C6420483          M  VISAKHAPATNAM   \n",
       "1048566      T1048567   C8337524          M           PUNE   \n",
       "\n",
       "        Transaction Timestamp  log_balance  log_txn_amount  \n",
       "0         2016-02-08 14:32:07     9.788080        3.258097  \n",
       "2         2016-02-08 14:27:12     9.791183        6.131226  \n",
       "3         2016-02-08 14:27:14    13.672222        7.630947  \n",
       "4         2016-02-08 18:11:56     8.812163        7.475056  \n",
       "5         2016-02-08 17:39:40    10.889495        6.517671  \n",
       "...                       ...          ...             ...  \n",
       "1048562   2016-09-18 18:48:24     8.940654        6.684612  \n",
       "1048563   2016-09-18 18:37:34    10.215097        6.133398  \n",
       "1048564   2016-09-18 18:33:13    12.309342        6.647688  \n",
       "1048565   2016-09-18 18:47:06     9.222157        6.908755  \n",
       "1048566   2016-09-18 18:12:22    11.235001        7.062192  \n",
       "\n",
       "[1024444 rows x 7 columns]"
      ]
     },
     "execution_count": 134,
     "metadata": {},
     "output_type": "execute_result"
    }
   ],
   "source": [
    "data_3"
   ]
  },
  {
   "cell_type": "code",
   "execution_count": 136,
   "id": "63f4d62b-29ef-4fa3-9d19-2da0cc2dcc62",
   "metadata": {},
   "outputs": [],
   "source": [
    "#group data_3 by customer ID and get aggregates\n",
    "grouped = data_3.groupby('CustomerID').agg({\n",
    "    'Transaction Timestamp': ['min', 'max', 'count'],\n",
    "    'log_balance': 'mean',\n",
    "    'log_txn_amount': 'mean'\n",
    "})"
   ]
  },
  {
   "cell_type": "code",
   "execution_count": 138,
   "id": "40b12bd4-d3ed-4e61-bd2d-e1882cd4a3f7",
   "metadata": {},
   "outputs": [],
   "source": [
    "# Use the latest transaction date in the data as 'today'\n",
    "today = data_3['Transaction Timestamp'].max()"
   ]
  },
  {
   "cell_type": "code",
   "execution_count": 140,
   "id": "1afcd776-7bce-4105-b0a3-2e05866b7b60",
   "metadata": {},
   "outputs": [],
   "source": [
    "# Group and aggregate\n",
    "rfm = data_3.groupby('CustomerID').agg({\n",
    "    'Transaction Timestamp': lambda x: (today - x.max()).days,   # Recency\n",
    "    'TransactionID': 'count',                                    # Frequency\n",
    "    'log_txn_amount': ['mean', 'sum']                      # Monetary: Avg and Total\n",
    "}).reset_index()"
   ]
  },
  {
   "cell_type": "code",
   "execution_count": 142,
   "id": "a9067f25-58c0-4278-b594-378db90de5ed",
   "metadata": {},
   "outputs": [],
   "source": [
    "# rename the column names\n",
    "rfm.columns = ['CustomerID', 'Recency', 'Frequency', 'AvgMonetary', 'TotalMonetary']"
   ]
  },
  {
   "cell_type": "code",
   "execution_count": 144,
   "id": "56f7973f-95cb-4207-8fbd-5472aaa4ee2c",
   "metadata": {},
   "outputs": [
    {
     "data": {
      "text/html": [
       "<div>\n",
       "<style scoped>\n",
       "    .dataframe tbody tr th:only-of-type {\n",
       "        vertical-align: middle;\n",
       "    }\n",
       "\n",
       "    .dataframe tbody tr th {\n",
       "        vertical-align: top;\n",
       "    }\n",
       "\n",
       "    .dataframe thead th {\n",
       "        text-align: right;\n",
       "    }\n",
       "</style>\n",
       "<table border=\"1\" class=\"dataframe\">\n",
       "  <thead>\n",
       "    <tr style=\"text-align: right;\">\n",
       "      <th></th>\n",
       "      <th>CustomerID</th>\n",
       "      <th>Recency</th>\n",
       "      <th>Frequency</th>\n",
       "      <th>AvgMonetary</th>\n",
       "      <th>TotalMonetary</th>\n",
       "    </tr>\n",
       "  </thead>\n",
       "  <tbody>\n",
       "    <tr>\n",
       "      <th>0</th>\n",
       "      <td>C1010011</td>\n",
       "      <td>74</td>\n",
       "      <td>2</td>\n",
       "      <td>7.171923</td>\n",
       "      <td>14.343846</td>\n",
       "    </tr>\n",
       "    <tr>\n",
       "      <th>1</th>\n",
       "      <td>C1010012</td>\n",
       "      <td>117</td>\n",
       "      <td>1</td>\n",
       "      <td>7.313220</td>\n",
       "      <td>7.313220</td>\n",
       "    </tr>\n",
       "    <tr>\n",
       "      <th>2</th>\n",
       "      <td>C1010014</td>\n",
       "      <td>154</td>\n",
       "      <td>2</td>\n",
       "      <td>6.310259</td>\n",
       "      <td>12.620517</td>\n",
       "    </tr>\n",
       "    <tr>\n",
       "      <th>3</th>\n",
       "      <td>C1010018</td>\n",
       "      <td>85</td>\n",
       "      <td>1</td>\n",
       "      <td>3.433987</td>\n",
       "      <td>3.433987</td>\n",
       "    </tr>\n",
       "    <tr>\n",
       "      <th>4</th>\n",
       "      <td>C1010024</td>\n",
       "      <td>113</td>\n",
       "      <td>1</td>\n",
       "      <td>8.517393</td>\n",
       "      <td>8.517393</td>\n",
       "    </tr>\n",
       "    <tr>\n",
       "      <th>...</th>\n",
       "      <td>...</td>\n",
       "      <td>...</td>\n",
       "      <td>...</td>\n",
       "      <td>...</td>\n",
       "      <td>...</td>\n",
       "    </tr>\n",
       "    <tr>\n",
       "      <th>867262</th>\n",
       "      <td>C9099836</td>\n",
       "      <td>154</td>\n",
       "      <td>1</td>\n",
       "      <td>6.539586</td>\n",
       "      <td>6.539586</td>\n",
       "    </tr>\n",
       "    <tr>\n",
       "      <th>867263</th>\n",
       "      <td>C9099877</td>\n",
       "      <td>85</td>\n",
       "      <td>1</td>\n",
       "      <td>5.407172</td>\n",
       "      <td>5.407172</td>\n",
       "    </tr>\n",
       "    <tr>\n",
       "      <th>867264</th>\n",
       "      <td>C9099919</td>\n",
       "      <td>113</td>\n",
       "      <td>1</td>\n",
       "      <td>4.844187</td>\n",
       "      <td>4.844187</td>\n",
       "    </tr>\n",
       "    <tr>\n",
       "      <th>867265</th>\n",
       "      <td>C9099941</td>\n",
       "      <td>103</td>\n",
       "      <td>1</td>\n",
       "      <td>3.931826</td>\n",
       "      <td>3.931826</td>\n",
       "    </tr>\n",
       "    <tr>\n",
       "      <th>867266</th>\n",
       "      <td>C9099956</td>\n",
       "      <td>75</td>\n",
       "      <td>1</td>\n",
       "      <td>6.752270</td>\n",
       "      <td>6.752270</td>\n",
       "    </tr>\n",
       "  </tbody>\n",
       "</table>\n",
       "<p>867267 rows × 5 columns</p>\n",
       "</div>"
      ],
      "text/plain": [
       "       CustomerID  Recency  Frequency  AvgMonetary  TotalMonetary\n",
       "0        C1010011       74          2     7.171923      14.343846\n",
       "1        C1010012      117          1     7.313220       7.313220\n",
       "2        C1010014      154          2     6.310259      12.620517\n",
       "3        C1010018       85          1     3.433987       3.433987\n",
       "4        C1010024      113          1     8.517393       8.517393\n",
       "...           ...      ...        ...          ...            ...\n",
       "867262   C9099836      154          1     6.539586       6.539586\n",
       "867263   C9099877       85          1     5.407172       5.407172\n",
       "867264   C9099919      113          1     4.844187       4.844187\n",
       "867265   C9099941      103          1     3.931826       3.931826\n",
       "867266   C9099956       75          1     6.752270       6.752270\n",
       "\n",
       "[867267 rows x 5 columns]"
      ]
     },
     "execution_count": 144,
     "metadata": {},
     "output_type": "execute_result"
    }
   ],
   "source": [
    "rfm"
   ]
  },
  {
   "cell_type": "code",
   "execution_count": 146,
   "id": "8c027ac5-0cb2-465d-ae84-d77bf34c7cdb",
   "metadata": {},
   "outputs": [],
   "source": [
    "#save customer profiles and rfm to excel file with multiple sheets\n",
    "with pd.ExcelWriter('customer_segmentation_tables.xlsx') as writer:\n",
    "    customer_profiles.to_excel(writer, sheet_name='CustomerProfiles', index=False)\n",
    "    rfm.to_excel(writer, sheet_name='RFM', index=False)"
   ]
  },
  {
   "cell_type": "markdown",
   "id": "303c64b0-dfbb-4e59-8d95-b0a245a1d7af",
   "metadata": {},
   "source": [
    "**Create the complete customer features table**"
   ]
  },
  {
   "cell_type": "code",
   "execution_count": 149,
   "id": "704c58bb-03cf-4080-b069-080b5274cb4c",
   "metadata": {},
   "outputs": [],
   "source": [
    "# Merge the RFM table with customer_profiles\n",
    "customer_features = customer_profiles.merge(rfm, on='CustomerID', how='inner')"
   ]
  },
  {
   "cell_type": "code",
   "execution_count": 151,
   "id": "9d129b7c-8bb9-4a61-a46a-26792cb78043",
   "metadata": {},
   "outputs": [
    {
     "data": {
      "text/html": [
       "<div>\n",
       "<style scoped>\n",
       "    .dataframe tbody tr th:only-of-type {\n",
       "        vertical-align: middle;\n",
       "    }\n",
       "\n",
       "    .dataframe tbody tr th {\n",
       "        vertical-align: top;\n",
       "    }\n",
       "\n",
       "    .dataframe thead th {\n",
       "        text-align: right;\n",
       "    }\n",
       "</style>\n",
       "<table border=\"1\" class=\"dataframe\">\n",
       "  <thead>\n",
       "    <tr style=\"text-align: right;\">\n",
       "      <th></th>\n",
       "      <th>CustomerID</th>\n",
       "      <th>CustGender</th>\n",
       "      <th>CustLocation</th>\n",
       "      <th>Age</th>\n",
       "      <th>Recency</th>\n",
       "      <th>Frequency</th>\n",
       "      <th>AvgMonetary</th>\n",
       "      <th>TotalMonetary</th>\n",
       "    </tr>\n",
       "  </thead>\n",
       "  <tbody>\n",
       "    <tr>\n",
       "      <th>0</th>\n",
       "      <td>C1010011</td>\n",
       "      <td>F</td>\n",
       "      <td>NEW DELHI</td>\n",
       "      <td>24</td>\n",
       "      <td>74</td>\n",
       "      <td>2</td>\n",
       "      <td>7.171923</td>\n",
       "      <td>14.343846</td>\n",
       "    </tr>\n",
       "    <tr>\n",
       "      <th>1</th>\n",
       "      <td>C1010012</td>\n",
       "      <td>M</td>\n",
       "      <td>MUMBAI</td>\n",
       "      <td>22</td>\n",
       "      <td>117</td>\n",
       "      <td>1</td>\n",
       "      <td>7.313220</td>\n",
       "      <td>7.313220</td>\n",
       "    </tr>\n",
       "    <tr>\n",
       "      <th>2</th>\n",
       "      <td>C1010014</td>\n",
       "      <td>F</td>\n",
       "      <td>MUMBAI</td>\n",
       "      <td>32</td>\n",
       "      <td>154</td>\n",
       "      <td>2</td>\n",
       "      <td>6.310259</td>\n",
       "      <td>12.620517</td>\n",
       "    </tr>\n",
       "    <tr>\n",
       "      <th>3</th>\n",
       "      <td>C1010018</td>\n",
       "      <td>F</td>\n",
       "      <td>CHAMPARAN</td>\n",
       "      <td>26</td>\n",
       "      <td>85</td>\n",
       "      <td>1</td>\n",
       "      <td>3.433987</td>\n",
       "      <td>3.433987</td>\n",
       "    </tr>\n",
       "    <tr>\n",
       "      <th>4</th>\n",
       "      <td>C1010024</td>\n",
       "      <td>M</td>\n",
       "      <td>KOLKATA</td>\n",
       "      <td>28</td>\n",
       "      <td>113</td>\n",
       "      <td>1</td>\n",
       "      <td>8.517393</td>\n",
       "      <td>8.517393</td>\n",
       "    </tr>\n",
       "    <tr>\n",
       "      <th>...</th>\n",
       "      <td>...</td>\n",
       "      <td>...</td>\n",
       "      <td>...</td>\n",
       "      <td>...</td>\n",
       "      <td>...</td>\n",
       "      <td>...</td>\n",
       "      <td>...</td>\n",
       "      <td>...</td>\n",
       "    </tr>\n",
       "    <tr>\n",
       "      <th>867262</th>\n",
       "      <td>C9099836</td>\n",
       "      <td>M</td>\n",
       "      <td>BHIWANDI</td>\n",
       "      <td>26</td>\n",
       "      <td>154</td>\n",
       "      <td>1</td>\n",
       "      <td>6.539586</td>\n",
       "      <td>6.539586</td>\n",
       "    </tr>\n",
       "    <tr>\n",
       "      <th>867263</th>\n",
       "      <td>C9099877</td>\n",
       "      <td>M</td>\n",
       "      <td>BANGALORE</td>\n",
       "      <td>20</td>\n",
       "      <td>85</td>\n",
       "      <td>1</td>\n",
       "      <td>5.407172</td>\n",
       "      <td>5.407172</td>\n",
       "    </tr>\n",
       "    <tr>\n",
       "      <th>867264</th>\n",
       "      <td>C9099919</td>\n",
       "      <td>M</td>\n",
       "      <td>GUNTUR</td>\n",
       "      <td>23</td>\n",
       "      <td>113</td>\n",
       "      <td>1</td>\n",
       "      <td>4.844187</td>\n",
       "      <td>4.844187</td>\n",
       "    </tr>\n",
       "    <tr>\n",
       "      <th>867265</th>\n",
       "      <td>C9099941</td>\n",
       "      <td>M</td>\n",
       "      <td>CHENNAI</td>\n",
       "      <td>21</td>\n",
       "      <td>103</td>\n",
       "      <td>1</td>\n",
       "      <td>3.931826</td>\n",
       "      <td>3.931826</td>\n",
       "    </tr>\n",
       "    <tr>\n",
       "      <th>867266</th>\n",
       "      <td>C9099956</td>\n",
       "      <td>M</td>\n",
       "      <td>MUSSOORIE</td>\n",
       "      <td>34</td>\n",
       "      <td>75</td>\n",
       "      <td>1</td>\n",
       "      <td>6.752270</td>\n",
       "      <td>6.752270</td>\n",
       "    </tr>\n",
       "  </tbody>\n",
       "</table>\n",
       "<p>867267 rows × 8 columns</p>\n",
       "</div>"
      ],
      "text/plain": [
       "       CustomerID CustGender CustLocation  Age  Recency  Frequency  \\\n",
       "0        C1010011          F    NEW DELHI   24       74          2   \n",
       "1        C1010012          M       MUMBAI   22      117          1   \n",
       "2        C1010014          F       MUMBAI   32      154          2   \n",
       "3        C1010018          F    CHAMPARAN   26       85          1   \n",
       "4        C1010024          M      KOLKATA   28      113          1   \n",
       "...           ...        ...          ...  ...      ...        ...   \n",
       "867262   C9099836          M     BHIWANDI   26      154          1   \n",
       "867263   C9099877          M    BANGALORE   20       85          1   \n",
       "867264   C9099919          M       GUNTUR   23      113          1   \n",
       "867265   C9099941          M      CHENNAI   21      103          1   \n",
       "867266   C9099956          M    MUSSOORIE   34       75          1   \n",
       "\n",
       "        AvgMonetary  TotalMonetary  \n",
       "0          7.171923      14.343846  \n",
       "1          7.313220       7.313220  \n",
       "2          6.310259      12.620517  \n",
       "3          3.433987       3.433987  \n",
       "4          8.517393       8.517393  \n",
       "...             ...            ...  \n",
       "867262     6.539586       6.539586  \n",
       "867263     5.407172       5.407172  \n",
       "867264     4.844187       4.844187  \n",
       "867265     3.931826       3.931826  \n",
       "867266     6.752270       6.752270  \n",
       "\n",
       "[867267 rows x 8 columns]"
      ]
     },
     "execution_count": 151,
     "metadata": {},
     "output_type": "execute_result"
    }
   ],
   "source": [
    "customer_features"
   ]
  },
  {
   "cell_type": "code",
   "execution_count": 153,
   "id": "8d982bfc-33ce-4a87-9490-74d73165aaa8",
   "metadata": {},
   "outputs": [],
   "source": [
    "customer_features.to_csv('customer_features.csv', index=False)"
   ]
  },
  {
   "cell_type": "code",
   "execution_count": null,
   "id": "969141c1-29e8-4321-be20-4260c0c58bc3",
   "metadata": {},
   "outputs": [],
   "source": []
  }
 ],
 "metadata": {
  "kernelspec": {
   "display_name": "Python [conda env:udemycourse]",
   "language": "python",
   "name": "conda-env-udemycourse-py"
  },
  "language_info": {
   "codemirror_mode": {
    "name": "ipython",
    "version": 3
   },
   "file_extension": ".py",
   "mimetype": "text/x-python",
   "name": "python",
   "nbconvert_exporter": "python",
   "pygments_lexer": "ipython3",
   "version": "3.8.20"
  }
 },
 "nbformat": 4,
 "nbformat_minor": 5
}
